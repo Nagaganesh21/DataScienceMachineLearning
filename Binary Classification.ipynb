{
 "cells": [
  {
   "cell_type": "markdown",
   "metadata": {},
   "source": [
    "### Binary Classification of dataset\n",
    "\n",
    "Uses the standard sonar dataset.  Compare the different classifiers in sci kit learn"
   ]
  },
  {
   "cell_type": "code",
   "execution_count": 1,
   "metadata": {},
   "outputs": [],
   "source": [
    "# Load libraries\n",
    "import numpy as np\n",
    "from matplotlib import pyplot as plt\n",
    "from pandas import read_csv\n",
    "from pandas import set_option\n",
    "from pandas.tools.plotting import scatter_matrix\n",
    "from sklearn.preprocessing import StandardScaler\n",
    "from sklearn.model_selection import train_test_split\n",
    "from sklearn.model_selection import KFold\n",
    "from sklearn.model_selection import cross_val_score\n",
    "from sklearn.model_selection import GridSearchCV\n",
    "from sklearn.metrics import classification_report\n",
    "from sklearn.metrics import confusion_matrix\n",
    "from sklearn.metrics import accuracy_score\n",
    "from sklearn.pipeline import Pipeline\n",
    "from sklearn.linear_model import LogisticRegression\n",
    "from sklearn.tree import DecisionTreeClassifier\n",
    "from sklearn.neighbors import KNeighborsClassifier\n",
    "from sklearn.discriminant_analysis import LinearDiscriminantAnalysis\n",
    "from sklearn.naive_bayes import GaussianNB\n",
    "from sklearn.svm import SVC\n",
    "from sklearn.ensemble import AdaBoostClassifier\n",
    "from sklearn.ensemble import GradientBoostingClassifier\n",
    "from sklearn.ensemble import RandomForestClassifier\n",
    "from sklearn.ensemble import ExtraTreesClassifier"
   ]
  },
  {
   "cell_type": "code",
   "execution_count": 2,
   "metadata": {},
   "outputs": [
    {
     "name": "stdout",
     "output_type": "stream",
     "text": [
      "(208, 61)\n",
      "            0          1        2        3        4        5        6   \\\n",
      "count  208.000  2.080e+02  208.000  208.000  208.000  208.000  208.000   \n",
      "mean     0.029  3.844e-02    0.044    0.054    0.075    0.105    0.122   \n",
      "std      0.023  3.296e-02    0.038    0.047    0.056    0.059    0.062   \n",
      "min      0.002  6.000e-04    0.002    0.006    0.007    0.010    0.003   \n",
      "25%      0.013  1.645e-02    0.019    0.024    0.038    0.067    0.081   \n",
      "50%      0.023  3.080e-02    0.034    0.044    0.062    0.092    0.107   \n",
      "75%      0.036  4.795e-02    0.058    0.065    0.100    0.134    0.154   \n",
      "max      0.137  2.339e-01    0.306    0.426    0.401    0.382    0.373   \n",
      "\n",
      "            7        8        9     ...           50         51         52  \\\n",
      "count  208.000  208.000  208.000    ...      208.000  2.080e+02  2.080e+02   \n",
      "mean     0.135    0.178    0.208    ...        0.016  1.342e-02  1.071e-02   \n",
      "std      0.085    0.118    0.134    ...        0.012  9.634e-03  7.060e-03   \n",
      "min      0.005    0.007    0.011    ...        0.000  8.000e-04  5.000e-04   \n",
      "25%      0.080    0.097    0.111    ...        0.008  7.275e-03  5.075e-03   \n",
      "50%      0.112    0.152    0.182    ...        0.014  1.140e-02  9.550e-03   \n",
      "75%      0.170    0.233    0.269    ...        0.021  1.673e-02  1.490e-02   \n",
      "max      0.459    0.683    0.711    ...        0.100  7.090e-02  3.900e-02   \n",
      "\n",
      "            53         54         55         56         57         58  \\\n",
      "count  208.000  2.080e+02  2.080e+02  2.080e+02  2.080e+02  2.080e+02   \n",
      "mean     0.011  9.290e-03  8.222e-03  7.820e-03  7.949e-03  7.941e-03   \n",
      "std      0.007  7.088e-03  5.736e-03  5.785e-03  6.470e-03  6.181e-03   \n",
      "min      0.001  6.000e-04  4.000e-04  3.000e-04  3.000e-04  1.000e-04   \n",
      "25%      0.005  4.150e-03  4.400e-03  3.700e-03  3.600e-03  3.675e-03   \n",
      "50%      0.009  7.500e-03  6.850e-03  5.950e-03  5.800e-03  6.400e-03   \n",
      "75%      0.015  1.210e-02  1.058e-02  1.043e-02  1.035e-02  1.033e-02   \n",
      "max      0.035  4.470e-02  3.940e-02  3.550e-02  4.400e-02  3.640e-02   \n",
      "\n",
      "              59  \n",
      "count  2.080e+02  \n",
      "mean   6.507e-03  \n",
      "std    5.031e-03  \n",
      "min    6.000e-04  \n",
      "25%    3.100e-03  \n",
      "50%    5.300e-03  \n",
      "75%    8.525e-03  \n",
      "max    4.390e-02  \n",
      "\n",
      "[8 rows x 60 columns]\n",
      "60\n",
      "M    111\n",
      "R     97\n",
      "dtype: int64\n"
     ]
    }
   ],
   "source": [
    "url = 'sonar.all-data.csv'\n",
    "dataset = read_csv(url, header=None)\n",
    "\n",
    "print(dataset.shape)\n",
    "# print(dataset.head())\n",
    "\n",
    "set_option('precision', 3)\n",
    "print(dataset.describe())\n",
    "\n",
    "# class distro\n",
    "print(dataset.groupby(60).size())"
   ]
  },
  {
   "cell_type": "code",
   "execution_count": 3,
   "metadata": {},
   "outputs": [
    {
     "data": {
      "image/png": "[encoded data removed]",
      "text/plain": [
       "<matplotlib.figure.Figure at 0x1937f61e668>"
      ]
     },
     "metadata": {},
     "output_type": "display_data"
    }
   ],
   "source": [
    "# correlation matrix\n",
    "fig = plt.figure()\n",
    "ax = fig.add_subplot(111)\n",
    "cax = ax.matshow(dataset.corr(), vmin=-1, vmax=1, interpolation='none')\n",
    "fig.colorbar(cax)\n",
    "plt.show()"
   ]
  },
  {
   "cell_type": "code",
   "execution_count": 4,
   "metadata": {},
   "outputs": [],
   "source": [
    "array = dataset.values\n",
    "X = array[:, 0:60].astype(float)\n",
    "Y = array[:, 60]\n",
    "validation_size = 0.2\n",
    "seed = 7\n",
    "X_train, X_validation, Y_train, Y_validation = train_test_split(X, Y, test_size=validation_size, random_state=seed)"
   ]
  },
  {
   "cell_type": "code",
   "execution_count": 5,
   "metadata": {},
   "outputs": [],
   "source": [
    "#evaluation - baselines\n",
    "num_folds = 10\n",
    "seed = 7\n",
    "scoring = 'accuracy'\n",
    "models = []\n",
    "models.append(('LR', LogisticRegression()))\n",
    "models.append(('LDA', LinearDiscriminantAnalysis()))\n",
    "models.append(('KNN', KNeighborsClassifier()))\n",
    "models.append(('CART', DecisionTreeClassifier()))\n",
    "models.append(('NB', GaussianNB()))\n",
    "models.append(('SVM', SVC()))\n"
   ]
  },
  {
   "cell_type": "code",
   "execution_count": 6,
   "metadata": {},
   "outputs": [
    {
     "name": "stdout",
     "output_type": "stream",
     "text": [
      "\n",
      "----------baseline results------------\n",
      "LR 0.782721 0.093796 \n",
      "LDA 0.746324 0.117854 \n",
      "KNN 0.808088 0.067507 \n",
      "CART 0.722426 0.084451 \n",
      "NB 0.648897 0.141868 \n",
      "SVM 0.608824 0.118656 \n"
     ]
    }
   ],
   "source": [
    "print(\"\\n----------baseline results------------\")\n",
    "results = []\n",
    "names = []\n",
    "for name, model in models:\n",
    "    kfold = KFold(n_splits=num_folds, random_state=seed)\n",
    "    cv_results = cross_val_score(model, X_train, Y_train, cv=kfold, scoring=scoring)\n",
    "    results.append(cv_results)\n",
    "    names.append(name)\n",
    "    msg = \"%s %f %f \" % (name, cv_results.mean(), cv_results.std())\n",
    "    print(msg)"
   ]
  },
  {
   "cell_type": "code",
   "execution_count": 7,
   "metadata": {},
   "outputs": [
    {
     "data": {
      "image/png": "[encoded data removed]",
      "text/plain": [
       "<matplotlib.figure.Figure at 0x1936ecc69e8>"
      ]
     },
     "metadata": {},
     "output_type": "display_data"
    }
   ],
   "source": [
    "# compare algorithms\n",
    "fig = plt.figure()\n",
    "fig.suptitle('Algo compare')\n",
    "ax = fig.add_subplot(111)\n",
    "plt.boxplot(results)\n",
    "ax.set_xticklabels(names)\n",
    "plt.show()"
   ]
  },
  {
   "cell_type": "code",
   "execution_count": 8,
   "metadata": {},
   "outputs": [],
   "source": [
    "# Evaluate Algorithms: Standardize Data\n",
    "# Standardize the dataset\n",
    "pipelines = []\n",
    "pipelines.append(('ScaledLR', Pipeline([('Scaler', StandardScaler()), ('LR', LogisticRegression())])))\n",
    "pipelines.append(('ScaledLDA', Pipeline([('Scaler', StandardScaler()), ('LDA', LinearDiscriminantAnalysis())])))\n",
    "pipelines.append(('ScaledKNN', Pipeline([('Scaler', StandardScaler()), ('KNN',\n",
    "                                                                        KNeighborsClassifier())])))\n",
    "pipelines.append(('ScaledCART', Pipeline([('Scaler', StandardScaler()), ('CART',\n",
    "                                                                         DecisionTreeClassifier())])))\n",
    "pipelines.append(('ScaledNB', Pipeline([('Scaler', StandardScaler()), ('NB',\n",
    "                                                                       GaussianNB())])))\n",
    "pipelines.append(('ScaledSVM', Pipeline([('Scaler', StandardScaler()), ('SVM', SVC())])))"
   ]
  },
  {
   "cell_type": "code",
   "execution_count": 9,
   "metadata": {},
   "outputs": [
    {
     "name": "stdout",
     "output_type": "stream",
     "text": [
      "\n",
      "----------baseline results------------\n",
      "ScaledLR 0.734191 0.095885 \n",
      "ScaledLDA 0.746324 0.117854 \n",
      "ScaledKNN 0.825735 0.054511 \n",
      "ScaledCART 0.734926 0.105476 \n",
      "ScaledNB 0.648897 0.141868 \n",
      "ScaledSVM 0.836397 0.088697 \n"
     ]
    }
   ],
   "source": [
    "print(\"\\n----------baseline results------------\")\n",
    "results = []\n",
    "names = []\n",
    "for name, model in pipelines:\n",
    "    kfold = KFold(n_splits=num_folds, random_state=seed)\n",
    "    cv_results = cross_val_score(model, X_train, Y_train, cv=kfold, scoring=scoring)\n",
    "    results.append(cv_results)\n",
    "    names.append(name)\n",
    "    msg = \"%s %f %f \" % (name, cv_results.mean(), cv_results.std())\n",
    "    print(msg)"
   ]
  },
  {
   "cell_type": "code",
   "execution_count": 10,
   "metadata": {},
   "outputs": [
    {
     "name": "stdout",
     "output_type": "stream",
     "text": [
      "\n",
      "----------Tuned scaled KNN------------\n",
      "Best: 0.849398 using {'n_neighbors': 1}\n",
      "0.849398 (0.059881) with: {'n_neighbors': 1}\n",
      "0.837349 (0.066303) with: {'n_neighbors': 3}\n",
      "0.837349 (0.037500) with: {'n_neighbors': 5}\n",
      "0.765060 (0.089510) with: {'n_neighbors': 7}\n",
      "0.753012 (0.086979) with: {'n_neighbors': 9}\n",
      "0.728916 (0.075873) with: {'n_neighbors': 15}\n",
      "0.722892 (0.084555) with: {'n_neighbors': 19}\n",
      "0.710843 (0.108829) with: {'n_neighbors': 21}\n"
     ]
    }
   ],
   "source": [
    "# KNN and SVM show best results after scaling, Tune these algorithms\n",
    "print(\"\\n----------Tuned scaled KNN------------\")\n",
    "scaler = StandardScaler().fit(X_train)\n",
    "rescaledX = scaler.transform(X_train)\n",
    "neighbors = [1, 3, 5, 7, 9, 15, 19, 21]\n",
    "param_grid = dict(n_neighbors=neighbors)\n",
    "model = KNeighborsClassifier()\n",
    "kfold = KFold(n_splits=num_folds, random_state=seed)\n",
    "grid = GridSearchCV(estimator=model, param_grid=param_grid, scoring=scoring, cv=kfold)\n",
    "grid_result = grid.fit(rescaledX, Y_train)\n",
    "print(\"Best: %f using %s\" % (grid_result.best_score_, grid_result.best_params_))\n",
    "means = grid_result.cv_results_['mean_test_score']\n",
    "stds = grid_result.cv_results_['std_test_score']\n",
    "params = grid_result.cv_results_['params']\n",
    "for mean, stdev, param in zip(means, stds, params):\n",
    "    print(\"%f (%f) with: %r\" % (mean, stdev, param))"
   ]
  },
  {
   "cell_type": "code",
   "execution_count": 11,
   "metadata": {},
   "outputs": [
    {
     "name": "stdout",
     "output_type": "stream",
     "text": [
      "\n",
      "----------Tuned scaled SVM------------\n",
      "Best: 0.867470 using {'C': 1.5, 'kernel': 'rbf'}\n",
      "0.759036 (0.098863) with: {'C': 0.1, 'kernel': 'linear'}\n",
      "0.530120 (0.118780) with: {'C': 0.1, 'kernel': 'poly'}\n",
      "0.572289 (0.130339) with: {'C': 0.1, 'kernel': 'rbf'}\n",
      "0.704819 (0.066360) with: {'C': 0.1, 'kernel': 'sigmoid'}\n",
      "0.746988 (0.108913) with: {'C': 0.3, 'kernel': 'linear'}\n",
      "0.644578 (0.132290) with: {'C': 0.3, 'kernel': 'poly'}\n",
      "0.765060 (0.092312) with: {'C': 0.3, 'kernel': 'rbf'}\n",
      "0.734940 (0.054631) with: {'C': 0.3, 'kernel': 'sigmoid'}\n",
      "0.740964 (0.083035) with: {'C': 0.5, 'kernel': 'linear'}\n",
      "0.680723 (0.098638) with: {'C': 0.5, 'kernel': 'poly'}\n",
      "0.789157 (0.064316) with: {'C': 0.5, 'kernel': 'rbf'}\n",
      "0.746988 (0.059265) with: {'C': 0.5, 'kernel': 'sigmoid'}\n",
      "0.746988 (0.084525) with: {'C': 0.7, 'kernel': 'linear'}\n",
      "0.740964 (0.127960) with: {'C': 0.7, 'kernel': 'poly'}\n",
      "0.813253 (0.084886) with: {'C': 0.7, 'kernel': 'rbf'}\n",
      "0.753012 (0.058513) with: {'C': 0.7, 'kernel': 'sigmoid'}\n",
      "0.759036 (0.096940) with: {'C': 0.9, 'kernel': 'linear'}\n",
      "0.771084 (0.102127) with: {'C': 0.9, 'kernel': 'poly'}\n",
      "0.837349 (0.087854) with: {'C': 0.9, 'kernel': 'rbf'}\n",
      "0.753012 (0.073751) with: {'C': 0.9, 'kernel': 'sigmoid'}\n",
      "0.753012 (0.099230) with: {'C': 1.0, 'kernel': 'linear'}\n",
      "0.789157 (0.107601) with: {'C': 1.0, 'kernel': 'poly'}\n",
      "0.837349 (0.087854) with: {'C': 1.0, 'kernel': 'rbf'}\n",
      "0.753012 (0.070213) with: {'C': 1.0, 'kernel': 'sigmoid'}\n",
      "0.771084 (0.106063) with: {'C': 1.3, 'kernel': 'linear'}\n",
      "0.819277 (0.106414) with: {'C': 1.3, 'kernel': 'poly'}\n",
      "0.849398 (0.079990) with: {'C': 1.3, 'kernel': 'rbf'}\n",
      "0.710843 (0.076865) with: {'C': 1.3, 'kernel': 'sigmoid'}\n",
      "0.759036 (0.091777) with: {'C': 1.5, 'kernel': 'linear'}\n",
      "0.831325 (0.109499) with: {'C': 1.5, 'kernel': 'poly'}\n",
      "0.867470 (0.090883) with: {'C': 1.5, 'kernel': 'rbf'}\n",
      "0.740964 (0.063717) with: {'C': 1.5, 'kernel': 'sigmoid'}\n",
      "0.746988 (0.090228) with: {'C': 1.7, 'kernel': 'linear'}\n",
      "0.831325 (0.115695) with: {'C': 1.7, 'kernel': 'poly'}\n",
      "0.861446 (0.087691) with: {'C': 1.7, 'kernel': 'rbf'}\n",
      "0.710843 (0.088140) with: {'C': 1.7, 'kernel': 'sigmoid'}\n",
      "0.759036 (0.094276) with: {'C': 2.0, 'kernel': 'linear'}\n",
      "0.831325 (0.108279) with: {'C': 2.0, 'kernel': 'poly'}\n",
      "0.867470 (0.094701) with: {'C': 2.0, 'kernel': 'rbf'}\n",
      "0.728916 (0.095050) with: {'C': 2.0, 'kernel': 'sigmoid'}\n"
     ]
    }
   ],
   "source": [
    "print(\"\\n----------Tuned scaled SVM------------\")\n",
    "# Tune scaled SVM\n",
    "scaler = StandardScaler().fit(X_train)\n",
    "rescaledX = scaler.transform(X_train)\n",
    "c_values = [0.1, 0.3, 0.5, 0.7, 0.9, 1.0, 1.3, 1.5, 1.7, 2.0]\n",
    "kernel_values = ['linear', 'poly', 'rbf', 'sigmoid']\n",
    "param_grid = dict(C=c_values, kernel=kernel_values)\n",
    "model = SVC()\n",
    "kfold = KFold(n_splits=num_folds, random_state=seed)\n",
    "grid = GridSearchCV(estimator=model, param_grid=param_grid, scoring=scoring, cv=kfold)\n",
    "grid_result = grid.fit(rescaledX, Y_train)\n",
    "print(\"Best: %f using %s\" % (grid_result.best_score_, grid_result.best_params_))\n",
    "means = grid_result.cv_results_['mean_test_score']\n",
    "stds = grid_result.cv_results_['std_test_score']\n",
    "params = grid_result.cv_results_['params']\n",
    "for mean, stdev, param in zip(means, stds, params):\n",
    "    print(\"%f (%f) with: %r\" % (mean, stdev, param))"
   ]
  },
  {
   "cell_type": "code",
   "execution_count": 12,
   "metadata": {},
   "outputs": [
    {
     "name": "stdout",
     "output_type": "stream",
     "text": [
      "\n",
      "----------Ensemble methods------------\n",
      "AB: 0.819853 (0.058293)\n",
      "GBM: 0.853676 (0.100318)\n",
      "RF: 0.763971 (0.086453)\n",
      "ET: 0.806618 (0.103376)\n"
     ]
    }
   ],
   "source": [
    "print(\"\\n----------Ensemble methods------------\")\n",
    "ensembles = []\n",
    "ensembles.append(('AB', AdaBoostClassifier()))\n",
    "ensembles.append(('GBM', GradientBoostingClassifier()))\n",
    "ensembles.append(('RF', RandomForestClassifier()))\n",
    "ensembles.append(('ET', ExtraTreesClassifier()))\n",
    "results = []\n",
    "names = []\n",
    "for name, model in ensembles:\n",
    "    kfold = KFold(n_splits=num_folds, random_state=seed)\n",
    "    cv_results = cross_val_score(model, X_train, Y_train, cv=kfold, scoring=scoring)\n",
    "    results.append(cv_results)\n",
    "    names.append(name)\n",
    "    msg = \"%s: %f (%f)\" % (name, cv_results.mean(), cv_results.std())\n",
    "    print(msg)"
   ]
  },
  {
   "cell_type": "code",
   "execution_count": 13,
   "metadata": {},
   "outputs": [
    {
     "data": {
      "image/png": "[encoded data removed]",
      "text/plain": [
       "<matplotlib.figure.Figure at 0x1937f8cb908>"
      ]
     },
     "metadata": {},
     "output_type": "display_data"
    },
    {
     "name": "stdout",
     "output_type": "stream",
     "text": [
      "\n",
      "----------Finalize model------------\n",
      "0.8571428571428571\n",
      "[[23  4]\n",
      " [ 2 13]]\n",
      "             precision    recall  f1-score   support\n",
      "\n",
      "          M       0.92      0.85      0.88        27\n",
      "          R       0.76      0.87      0.81        15\n",
      "\n",
      "avg / total       0.86      0.86      0.86        42\n",
      "\n"
     ]
    }
   ],
   "source": [
    "# Compare Algorithms\n",
    "fig = plt.figure()\n",
    "fig.suptitle('Ensemble Algorithm Comparison')\n",
    "ax = fig.add_subplot(111)\n",
    "plt.boxplot(results)\n",
    "ax.set_xticklabels(names)\n",
    "plt.show()\n",
    "\n",
    "\n",
    "print(\"\\n----------Finalize model------------\")\n",
    "# prepare the model\n",
    "scaler = StandardScaler().fit(X_train)\n",
    "rescaledX = scaler.transform(X_train)\n",
    "model = SVC(C=1.5)\n",
    "model.fit(rescaledX, Y_train)\n",
    "# estimate accuracy on validation dataset\n",
    "rescaledValidationX = scaler.transform(X_validation)\n",
    "predictions = model.predict(rescaledValidationX)\n",
    "print(accuracy_score(Y_validation, predictions))\n",
    "print(confusion_matrix(Y_validation, predictions))\n",
    "print(classification_report(Y_validation, predictions))"
   ]
  },
  {
   "cell_type": "code",
   "execution_count": null,
   "metadata": {},
   "outputs": [],
   "source": []
  }
 ],
 "metadata": {
  "kernelspec": {
   "display_name": "Python 3",
   "language": "python",
   "name": "python3"
  },
  "language_info": {
   "codemirror_mode": {
    "name": "ipython",
    "version": 3
   },
   "file_extension": ".py",
   "mimetype": "text/x-python",
   "name": "python",
   "nbconvert_exporter": "python",
   "pygments_lexer": "ipython3",
   "version": "3.6.4"
  }
 },
 "nbformat": 4,
 "nbformat_minor": 2
}
