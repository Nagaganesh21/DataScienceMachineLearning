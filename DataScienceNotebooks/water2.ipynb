{
 "cells": [
  {
   "cell_type": "code",
   "execution_count": 1,
   "metadata": {},
   "outputs": [],
   "source": [
    "import numpy as np\n",
    "import pandas as pd\n",
    "import os\n",
    "\n",
    "import matplotlib.pyplot as plt\n",
    "import seaborn as sns\n",
    "\n",
    "%matplotlib inline\n",
    "\n",
    "from sklearn.preprocessing import StandardScaler\n",
    "from sklearn.preprocessing import Normalizer\n",
    "from sklearn import preprocessing as pp \n",
    "from scipy.stats import pearsonr \n",
    "from sklearn.model_selection import train_test_split\n",
    "from sklearn.model_selection import StratifiedKFold \n",
    "from sklearn.metrics import log_loss \n",
    "from sklearn.metrics import precision_recall_curve, average_precision_score \n",
    "from sklearn.metrics import roc_curve, auc, roc_auc_score\n",
    "from sklearn.metrics import confusion_matrix, classification_report,accuracy_score\n",
    "import xgboost as xgb\n",
    "\n",
    "from sklearn.linear_model import LogisticRegression\n",
    "from sklearn.ensemble import RandomForestClassifier\n",
    "\n",
    "from sklearn.metrics import average_precision_score\n",
    "from sklearn.metrics import precision_recall_curve\n",
    "from sklearn.model_selection import GridSearchCV\n",
    "\n",
    "import warnings\n",
    "warnings.filterwarnings('ignore')\n",
    "pd.options.mode.chained_assignment = None\n",
    "pd.set_option('display.max_columns', 1000)\n",
    "plt.style.use('fivethirtyeight')\n",
    "\n",
    "seed = 42\n"
   ]
  },
  {
   "cell_type": "markdown",
   "metadata": {},
   "source": [
    "# Pump it Up: Data Mining the Water Table\n",
    "\n",
    "See the website below for description of the data\n",
    "- https://www.drivendata.org/competitions/7/pump-it-up-data-mining-the-water-table/"
   ]
  },
  {
   "cell_type": "code",
   "execution_count": 2,
   "metadata": {},
   "outputs": [],
   "source": [
    "datasets_path = \"D:\\\\ml_code\\\\datasets\\\\\""
   ]
  },
  {
   "cell_type": "code",
   "execution_count": 3,
   "metadata": {},
   "outputs": [],
   "source": [
    "train_data = pd.read_csv(datasets_path+'water_train.csv')\n",
    "test_data = pd.read_csv(datasets_path+'water_test.csv')\n",
    "train_target = pd.read_csv(datasets_path+'water_train_labels.csv')\n",
    "\n",
    "df = train_data.copy()"
   ]
  },
  {
   "cell_type": "code",
   "execution_count": 4,
   "metadata": {},
   "outputs": [
    {
     "data": {
      "text/plain": [
       "functional                 0.543081\n",
       "non functional             0.384242\n",
       "functional needs repair    0.072677\n",
       "Name: status_group, dtype: float64"
      ]
     },
     "execution_count": 4,
     "metadata": {},
     "output_type": "execute_result"
    }
   ],
   "source": [
    "train_target.status_group.value_counts(dropna=False,normalize=True)"
   ]
  },
  {
   "cell_type": "code",
   "execution_count": 5,
   "metadata": {},
   "outputs": [],
   "source": [
    "#add the label info\n",
    "df = df.merge(train_target,on='id')"
   ]
  },
  {
   "cell_type": "code",
   "execution_count": 6,
   "metadata": {},
   "outputs": [],
   "source": [
    "#save id column for later\n",
    "#train_ID = df['id']\n",
    "#df.drop('id',axis=1,inplace=True)"
   ]
  },
  {
   "cell_type": "code",
   "execution_count": 7,
   "metadata": {},
   "outputs": [
    {
     "name": "stdout",
     "output_type": "stream",
     "text": [
      "<class 'pandas.core.frame.DataFrame'>\n",
      "Int64Index: 59400 entries, 0 to 59399\n",
      "Data columns (total 41 columns):\n",
      "id                       59400 non-null int64\n",
      "amount_tsh               59400 non-null float64\n",
      "date_recorded            59400 non-null object\n",
      "funder                   55765 non-null object\n",
      "gps_height               59400 non-null int64\n",
      "installer                55745 non-null object\n",
      "longitude                59400 non-null float64\n",
      "latitude                 59400 non-null float64\n",
      "wpt_name                 59400 non-null object\n",
      "num_private              59400 non-null int64\n",
      "basin                    59400 non-null object\n",
      "subvillage               59029 non-null object\n",
      "region                   59400 non-null object\n",
      "region_code              59400 non-null int64\n",
      "district_code            59400 non-null int64\n",
      "lga                      59400 non-null object\n",
      "ward                     59400 non-null object\n",
      "population               59400 non-null int64\n",
      "public_meeting           56066 non-null object\n",
      "recorded_by              59400 non-null object\n",
      "scheme_management        55523 non-null object\n",
      "scheme_name              31234 non-null object\n",
      "permit                   56344 non-null object\n",
      "construction_year        59400 non-null int64\n",
      "extraction_type          59400 non-null object\n",
      "extraction_type_group    59400 non-null object\n",
      "extraction_type_class    59400 non-null object\n",
      "management               59400 non-null object\n",
      "management_group         59400 non-null object\n",
      "payment                  59400 non-null object\n",
      "payment_type             59400 non-null object\n",
      "water_quality            59400 non-null object\n",
      "quality_group            59400 non-null object\n",
      "quantity                 59400 non-null object\n",
      "quantity_group           59400 non-null object\n",
      "source                   59400 non-null object\n",
      "source_type              59400 non-null object\n",
      "source_class             59400 non-null object\n",
      "waterpoint_type          59400 non-null object\n",
      "waterpoint_type_group    59400 non-null object\n",
      "status_group             59400 non-null object\n",
      "dtypes: float64(3), int64(7), object(31)\n",
      "memory usage: 19.0+ MB\n"
     ]
    }
   ],
   "source": [
    "df.info()"
   ]
  },
  {
   "cell_type": "code",
   "execution_count": 8,
   "metadata": {},
   "outputs": [
    {
     "data": {
      "text/plain": [
       "functional                 0.543081\n",
       "non functional             0.384242\n",
       "functional needs repair    0.072677\n",
       "Name: status_group, dtype: float64"
      ]
     },
     "execution_count": 8,
     "metadata": {},
     "output_type": "execute_result"
    }
   ],
   "source": [
    "df.status_group.value_counts(normalize=True)"
   ]
  },
  {
   "cell_type": "markdown",
   "metadata": {},
   "source": [
    "## Time date processing"
   ]
  },
  {
   "cell_type": "code",
   "execution_count": 9,
   "metadata": {},
   "outputs": [
    {
     "data": {
      "text/plain": [
       "unknown    20709\n",
       "00s        15330\n",
       "90s         7678\n",
       "80s         5578\n",
       "10s         5161\n",
       "70s         4406\n",
       "60s          538\n",
       "Name: construction_year, dtype: int64"
      ]
     },
     "execution_count": 9,
     "metadata": {},
     "output_type": "execute_result"
    }
   ],
   "source": [
    "# Turn construction_year into a categorical column containing the following values: '60s', '70s',\n",
    "# '80s', '90s, '00s', '10s', 'unknown'.\n",
    "\n",
    "def process_construction(row):\n",
    "    if row['construction_year'] >= 1960 and row['construction_year'] < 1970:\n",
    "        return '60s'\n",
    "    elif row['construction_year'] >= 1970 and row['construction_year'] < 1980:\n",
    "        return '70s'\n",
    "    elif row['construction_year'] >= 1980 and row['construction_year'] < 1990:\n",
    "        return '80s'\n",
    "    elif row['construction_year'] >= 1990 and row['construction_year'] < 2000:\n",
    "        return '90s'\n",
    "    elif row['construction_year'] >= 2000 and row['construction_year'] < 2010:\n",
    "        return '00s'\n",
    "    elif row['construction_year'] >= 2010:\n",
    "        return '10s'\n",
    "    else:\n",
    "        return 'unknown'\n",
    "    \n",
    "df['construction_year'] = df[['construction_year']].apply(process_construction, axis=1)\n",
    "\n",
    "df.construction_year.value_counts()"
   ]
  },
  {
   "cell_type": "code",
   "execution_count": 10,
   "metadata": {},
   "outputs": [
    {
     "data": {
      "text/plain": [
       "0    2011-03-14\n",
       "1    2013-03-06\n",
       "2    2013-02-25\n",
       "3    2013-01-28\n",
       "4    2011-07-13\n",
       "Name: date_recorded, dtype: object"
      ]
     },
     "metadata": {},
     "output_type": "display_data"
    },
    {
     "data": {
      "text/plain": [
       "0   995 days\n",
       "1   272 days\n",
       "2   281 days\n",
       "3   309 days\n",
       "4   874 days\n",
       "Name: date_recorded, dtype: timedelta64[ns]"
      ]
     },
     "metadata": {},
     "output_type": "display_data"
    },
    {
     "data": {
      "text/plain": [
       "0   995 days\n",
       "Name: days_since_recorded, dtype: timedelta64[ns]"
      ]
     },
     "metadata": {},
     "output_type": "display_data"
    },
    {
     "data": {
      "text/plain": [
       "0    995\n",
       "Name: days_since_recorded, dtype: int32"
      ]
     },
     "metadata": {},
     "output_type": "display_data"
    }
   ],
   "source": [
    "#get the days since recorded\n",
    "display(df.date_recorded.head(5))\n",
    "df.date_recorded = pd.datetime(2013, 12, 3) - pd.to_datetime(df.date_recorded)\n",
    "display(df.date_recorded.head(5))\n",
    "\n",
    "#rename column\n",
    "df.columns = ['days_since_recorded' if x=='date_recorded' else x for x in df.columns]\n",
    "display(df.days_since_recorded.head(1))\n",
    "\n",
    "#round the value\n",
    "df.days_since_recorded = df.days_since_recorded.astype('timedelta64[D]').astype(int)\n",
    "display(df.days_since_recorded.head(1))"
   ]
  },
  {
   "cell_type": "markdown",
   "metadata": {},
   "source": [
    "## Cleaning data"
   ]
  },
  {
   "cell_type": "code",
   "execution_count": 11,
   "metadata": {},
   "outputs": [],
   "source": [
    "#after some research try dropping these columns\n",
    "cols = ['wpt_name','num_private','subvillage','region','lga','recorded_by','extraction_type','quality_group',\n",
    "        'quantity_group','source_type','waterpoint_type_group','scheme_name']\n",
    "\n",
    "df.drop(df[cols],axis=1,inplace=True)"
   ]
  },
  {
   "cell_type": "code",
   "execution_count": 12,
   "metadata": {},
   "outputs": [
    {
     "data": {
      "text/plain": [
       "scheme_management      3877\n",
       "installer              3655\n",
       "funder                 3635\n",
       "public_meeting         3334\n",
       "permit                 3056\n",
       "amount_tsh                0\n",
       "days_since_recorded       0\n",
       "gps_height                0\n",
       "longitude                 0\n",
       "latitude                  0\n",
       "dtype: int64"
      ]
     },
     "execution_count": 12,
     "metadata": {},
     "output_type": "execute_result"
    }
   ],
   "source": [
    "df.isnull().sum().sort_values(ascending=False).head(10)"
   ]
  },
  {
   "cell_type": "code",
   "execution_count": 13,
   "metadata": {},
   "outputs": [],
   "source": [
    "df.public_meeting.value_counts(dropna=False)\n",
    "df.public_meeting.fillna('Unknown',inplace = True)"
   ]
  },
  {
   "cell_type": "code",
   "execution_count": 14,
   "metadata": {},
   "outputs": [
    {
     "data": {
      "text/plain": [
       "True       51011\n",
       "False       5055\n",
       "Unknown     3334\n",
       "Name: public_meeting, dtype: int64"
      ]
     },
     "execution_count": 14,
     "metadata": {},
     "output_type": "execute_result"
    }
   ],
   "source": [
    "df.public_meeting.value_counts()"
   ]
  },
  {
   "cell_type": "code",
   "execution_count": 15,
   "metadata": {},
   "outputs": [
    {
     "data": {
      "text/plain": [
       "True       38852\n",
       "False      17492\n",
       "Unknown     3056\n",
       "Name: permit, dtype: int64"
      ]
     },
     "execution_count": 15,
     "metadata": {},
     "output_type": "execute_result"
    }
   ],
   "source": [
    "df.permit.value_counts(dropna=False)\n",
    "df.permit.fillna('Unknown',inplace = True)\n",
    "df.permit.value_counts(dropna=False)"
   ]
  },
  {
   "cell_type": "code",
   "execution_count": 16,
   "metadata": {},
   "outputs": [
    {
     "data": {
      "text/plain": [
       "VWC                 40670\n",
       "WUG                  5206\n",
       "Water authority      3153\n",
       "WUA                  2883\n",
       "Water Board          2748\n",
       "Parastatal           1680\n",
       "Private operator     1063\n",
       "Company              1061\n",
       "Other                 766\n",
       "SWC                    97\n",
       "Trust                  72\n",
       "None                    1\n",
       "Name: scheme_management, dtype: int64"
      ]
     },
     "execution_count": 16,
     "metadata": {},
     "output_type": "execute_result"
    }
   ],
   "source": [
    "df.scheme_management.value_counts(dropna=False)\n",
    "df.scheme_management.fillna('VWC',inplace=True)\n",
    "df.scheme_management.value_counts(dropna=False)"
   ]
  },
  {
   "cell_type": "code",
   "execution_count": 17,
   "metadata": {},
   "outputs": [
    {
     "name": "stdout",
     "output_type": "stream",
     "text": [
      "<class 'pandas.core.frame.DataFrame'>\n",
      "Int64Index: 59400 entries, 0 to 59399\n",
      "Data columns (total 29 columns):\n",
      "id                       59400 non-null int64\n",
      "amount_tsh               59400 non-null float64\n",
      "days_since_recorded      59400 non-null int32\n",
      "funder                   55765 non-null object\n",
      "gps_height               59400 non-null int64\n",
      "installer                55745 non-null object\n",
      "longitude                59400 non-null float64\n",
      "latitude                 59400 non-null float64\n",
      "basin                    59400 non-null object\n",
      "region_code              59400 non-null int64\n",
      "district_code            59400 non-null int64\n",
      "ward                     59400 non-null object\n",
      "population               59400 non-null int64\n",
      "public_meeting           59400 non-null object\n",
      "scheme_management        59400 non-null object\n",
      "permit                   59400 non-null object\n",
      "construction_year        59400 non-null object\n",
      "extraction_type_group    59400 non-null object\n",
      "extraction_type_class    59400 non-null object\n",
      "management               59400 non-null object\n",
      "management_group         59400 non-null object\n",
      "payment                  59400 non-null object\n",
      "payment_type             59400 non-null object\n",
      "water_quality            59400 non-null object\n",
      "quantity                 59400 non-null object\n",
      "source                   59400 non-null object\n",
      "source_class             59400 non-null object\n",
      "waterpoint_type          59400 non-null object\n",
      "status_group             59400 non-null object\n",
      "dtypes: float64(3), int32(1), int64(5), object(20)\n",
      "memory usage: 15.9+ MB\n"
     ]
    }
   ],
   "source": [
    "df.info()"
   ]
  },
  {
   "cell_type": "markdown",
   "metadata": {},
   "source": [
    "## Combining values"
   ]
  },
  {
   "cell_type": "code",
   "execution_count": 18,
   "metadata": {},
   "outputs": [
    {
     "data": {
      "text/plain": [
       "Government Of Tanzania    9084\n",
       "NaN                       3635\n",
       "Danida                    3114\n",
       "Hesawa                    2202\n",
       "Rwssp                     1374\n",
       "World Bank                1349\n",
       "Kkkt                      1287\n",
       "World Vision              1246\n",
       "Unicef                    1057\n",
       "Tasaf                      877\n",
       "Name: funder, dtype: int64"
      ]
     },
     "execution_count": 18,
     "metadata": {},
     "output_type": "execute_result"
    }
   ],
   "source": [
    "df.funder.value_counts(dropna=False).head(10)"
   ]
  },
  {
   "cell_type": "code",
   "execution_count": 19,
   "metadata": {},
   "outputs": [
    {
     "data": {
      "text/plain": [
       "other         42277\n",
       "government     9084\n",
       "danida         3114\n",
       "hesawa         2202\n",
       "rwssp          1374\n",
       "world_bank     1349\n",
       "Name: funder, dtype: int64"
      ]
     },
     "execution_count": 19,
     "metadata": {},
     "output_type": "execute_result"
    }
   ],
   "source": [
    "def process_funder(data):\n",
    "    if data['funder']=='Government Of Tanzania':\n",
    "        return 'government'\n",
    "    elif data['funder']=='Danida':\n",
    "        return 'danida'\n",
    "    elif data['funder']=='Hesawa':\n",
    "        return 'hesawa'\n",
    "    elif data['funder']=='Rwssp':\n",
    "        return 'rwssp'\n",
    "    elif data['funder']=='World Bank':\n",
    "        return 'world_bank'    \n",
    "    else:\n",
    "        return 'other'\n",
    "\n",
    "df['funder'] = df[['funder']].apply(process_funder,axis=1)\n",
    "df.funder.value_counts()  \n"
   ]
  },
  {
   "cell_type": "code",
   "execution_count": 20,
   "metadata": {},
   "outputs": [
    {
     "data": {
      "text/plain": [
       "other         36857\n",
       "dwe           17402\n",
       "government     1825\n",
       "rwe            1206\n",
       "commu          1060\n",
       "danida         1050\n",
       "Name: installer, dtype: int64"
      ]
     },
     "execution_count": 20,
     "metadata": {},
     "output_type": "execute_result"
    }
   ],
   "source": [
    "df.installer.value_counts(dropna=False)\n",
    "\n",
    "def process_installer(data):\n",
    "    if data['installer']=='DWE':\n",
    "        return 'dwe'\n",
    "    elif data['installer']=='Government':\n",
    "        return 'government'\n",
    "    elif data['installer']=='RWE':\n",
    "        return 'rwe'\n",
    "    elif data['installer']=='Commu':\n",
    "        return 'commu'\n",
    "    elif data['installer']=='DANIDA':\n",
    "        return 'danida'    \n",
    "    else:\n",
    "        return 'other'\n",
    "\n",
    "df['installer'] = df[['installer']].apply(process_installer,axis=1)\n",
    "df.installer.value_counts()"
   ]
  },
  {
   "cell_type": "code",
   "execution_count": 21,
   "metadata": {},
   "outputs": [],
   "source": [
    "#df.info()"
   ]
  },
  {
   "cell_type": "code",
   "execution_count": 22,
   "metadata": {},
   "outputs": [
    {
     "data": {
      "text/plain": [
       "True       51011\n",
       "False       5055\n",
       "Unknown     3334\n",
       "Name: public_meeting, dtype: int64"
      ]
     },
     "execution_count": 22,
     "metadata": {},
     "output_type": "execute_result"
    }
   ],
   "source": [
    "df.public_meeting.value_counts()"
   ]
  },
  {
   "cell_type": "code",
   "execution_count": 23,
   "metadata": {},
   "outputs": [
    {
     "data": {
      "text/plain": [
       "array(['functional', 'non functional', 'functional needs repair'],\n",
       "      dtype=object)"
      ]
     },
     "metadata": {},
     "output_type": "display_data"
    }
   ],
   "source": [
    "#from sklearn import preprocessing\n",
    "#le = preprocessing.LabelEncoder()\n",
    "#df['status_group'] = le.fit_transform(df.status_group)\n",
    "#df.status_group\n",
    "\n",
    "display(df.status_group.unique())\n",
    "df = df.replace({\"status_group\" : {'non functional' : 0, \"functional needs repair\" : 1,'functional' : 2} })\n",
    "#df.info()"
   ]
  },
  {
   "cell_type": "code",
   "execution_count": 24,
   "metadata": {},
   "outputs": [],
   "source": [
    "water_quality_cat = df.water_quality.unique()\n",
    "df2= df.copy()\n",
    "df2['water_quality'] = pd.Categorical(df.water_quality,categories=water_quality_cat)"
   ]
  },
  {
   "cell_type": "code",
   "execution_count": 25,
   "metadata": {},
   "outputs": [
    {
     "data": {
      "text/plain": [
       "CategoricalDtype(categories=['soft', 'salty', 'milky', 'unknown', 'fluoride', 'coloured',\n",
       "                  'salty abandoned', 'fluoride abandoned'],\n",
       "                 ordered=False)"
      ]
     },
     "execution_count": 25,
     "metadata": {},
     "output_type": "execute_result"
    }
   ],
   "source": [
    "df2.water_quality.dtypes"
   ]
  },
  {
   "cell_type": "code",
   "execution_count": 26,
   "metadata": {},
   "outputs": [
    {
     "data": {
      "image/png": "[encoded data removed]",
      "text/plain": [
       "<Figure size 864x576 with 1 Axes>"
      ]
     },
     "metadata": {},
     "output_type": "display_data"
    }
   ],
   "source": [
    "#df.water_quality.value_counts()\n",
    "plt.rcParams['figure.figsize'] = [12, 8]\n",
    "g = sns.countplot(x='water_quality',hue='status_group',data=df2);\n",
    "new_labels = ['non functional','functional needs repair' , 'functional']\n",
    "plt.legend(title='status group',labels=new_labels);"
   ]
  },
  {
   "cell_type": "code",
   "execution_count": 27,
   "metadata": {},
   "outputs": [],
   "source": [
    "y = df.status_group.values\n",
    "df.drop('status_group',axis=1,inplace=True)"
   ]
  },
  {
   "cell_type": "code",
   "execution_count": 28,
   "metadata": {},
   "outputs": [],
   "source": [
    "#save id column for later\n",
    "train_ID = df['id']\n",
    "df.drop('id',axis=1,inplace=True)"
   ]
  },
  {
   "cell_type": "code",
   "execution_count": 29,
   "metadata": {},
   "outputs": [
    {
     "name": "stdout",
     "output_type": "stream",
     "text": [
      "Numerical features : 8\n",
      "Categorical features : 19\n"
     ]
    }
   ],
   "source": [
    "#split numerical and categorical features for further processing\n",
    "numeric_feats = df.dtypes[df.dtypes != \"object\"].index\n",
    "cat_feats = df.dtypes[df.dtypes == \"object\"].index\n",
    "\n",
    "print(\"Numerical features : \" + str(len(numeric_feats)))\n",
    "print(\"Categorical features : \" + str(len(cat_feats)))\n",
    "\n",
    "df_num = df[numeric_feats]\n",
    "df_cat = df[cat_feats]"
   ]
  },
  {
   "cell_type": "code",
   "execution_count": 30,
   "metadata": {},
   "outputs": [],
   "source": [
    "#convert to categorical\n",
    "cat_feats_list = cat_feats.tolist()\n",
    "\n",
    "for idx in cat_feats_list:\n",
    "    col_ = pd.Categorical.from_array(df_cat[idx])\n",
    "    df_cat[idx]= col_.codes"
   ]
  },
  {
   "cell_type": "code",
   "execution_count": 31,
   "metadata": {},
   "outputs": [],
   "source": [
    "#norm the numeric features - will use trees and or deep learning\n",
    "#norm = Normalizer()\n",
    "#df_num.loc[:,numeric_feats] = norm.fit_transform(df_num.loc[:,numeric_feats]) \n",
    "\n",
    "#df_num.head()"
   ]
  },
  {
   "cell_type": "code",
   "execution_count": 32,
   "metadata": {},
   "outputs": [],
   "source": [
    "#scale the numeric features"
   ]
  },
  {
   "cell_type": "code",
   "execution_count": 33,
   "metadata": {},
   "outputs": [],
   "source": [
    "df = pd.concat([df_num,df_cat],axis=1)"
   ]
  },
  {
   "cell_type": "code",
   "execution_count": 34,
   "metadata": {},
   "outputs": [],
   "source": [
    "#df.info()"
   ]
  },
  {
   "cell_type": "code",
   "execution_count": 35,
   "metadata": {},
   "outputs": [
    {
     "data": {
      "text/plain": [
       "32259"
      ]
     },
     "execution_count": 35,
     "metadata": {},
     "output_type": "execute_result"
    }
   ],
   "source": [
    "res = y == 2\n",
    "res.sum()"
   ]
  },
  {
   "cell_type": "code",
   "execution_count": 36,
   "metadata": {},
   "outputs": [],
   "source": [
    "# Partition the dataset in train + validation sets\n",
    "test_size = 0.33\n",
    "seed = seed\n",
    "X_train, X_test, y_train, y_test = train_test_split(df.values, y, test_size = test_size, random_state = seed,stratify=y)"
   ]
  },
  {
   "cell_type": "code",
   "execution_count": 37,
   "metadata": {
    "scrolled": true
   },
   "outputs": [
    {
     "data": {
      "image/png": "[encoded data removed]",
      "text/plain": [
       "<Figure size 864x576 with 1 Axes>"
      ]
     },
     "metadata": {},
     "output_type": "display_data"
    }
   ],
   "source": [
    "#try xgb for feature importances\n",
    "water_dmatrix = xgb.DMatrix(data=df, label=y)\n",
    "\n",
    "# Create the parameter dictionary: params\n",
    "params = {'learning_rate': 0.1, 'n_estimators': 500, 'seed':42, 'subsample': 0.8, 'colsample_bytree': 0.8, \n",
    "             'objective': 'multi:softmax','num_class':3,'silent':1}\n",
    "\n",
    "# Train the model: xg_reg\n",
    "xg_reg = xgb.train(params=params, dtrain=water_dmatrix, num_boost_round=100);\n",
    "\n",
    "# Plot the feature importances\n",
    "xgb.plot_importance(xg_reg);\n",
    "plt.show()"
   ]
  },
  {
   "cell_type": "code",
   "execution_count": 38,
   "metadata": {},
   "outputs": [],
   "source": [
    "xgdmat = xgb.DMatrix(X_train, y_train) # Create our DMatrix to make XGBoost more efficient"
   ]
  },
  {
   "cell_type": "code",
   "execution_count": 39,
   "metadata": {},
   "outputs": [],
   "source": [
    "#our_params = {'eta': 0.1, 'seed':0, 'subsample': 0.8, 'colsample_bytree': 0.8, \n",
    "#             'objective': 'binary:logistic', 'max_depth':3, 'min_child_weight':1} \n",
    "#params = {'learning_rate': 0.1, 'n_estimators': 500, 'seed':0, 'subsample': 0.8, 'colsample_bytree': 0.8, \n",
    "#             'objective': 'multi:softmax','num_class':3}\n",
    "# Grid Search CV optimized settings\n",
    "\n",
    "#cv_xgb = xgb.cv(params = params, dtrain = xgdmat, num_boost_round = 200, nfold = 5,\n",
    "#                metrics = ['mlogloss'], # Make sure you enter metrics inside a list or you may encounter issues!\n",
    "#                early_stopping_rounds = 100) # Look for early stopping that minimizes error"
   ]
  },
  {
   "cell_type": "code",
   "execution_count": 40,
   "metadata": {},
   "outputs": [],
   "source": [
    "dtrain = xgb.DMatrix(X_train, label=y_train)\n",
    "dtest = xgb.DMatrix(X_test, label=y_test)"
   ]
  },
  {
   "cell_type": "code",
   "execution_count": 41,
   "metadata": {},
   "outputs": [],
   "source": [
    "params = {\n",
    "    # Parameters that we are going to tune.\n",
    "    'max_depth':6,\n",
    "    'min_child_weight': 1,\n",
    "    'eta':.3,\n",
    "    'subsample': 1,\n",
    "    'colsample_bytree': 1,\n",
    "    # Other parameters\n",
    "    'objective': 'multi:softmax',\n",
    "    'num_class':3,\n",
    "    'silent':1,\n",
    "    'eval_metric':'mlogloss'\n",
    "    \n",
    "}\n",
    "#params['silent'] = 1"
   ]
  },
  {
   "cell_type": "code",
   "execution_count": 42,
   "metadata": {},
   "outputs": [],
   "source": [
    "#params['eval_metric'] = \"mlogloss\""
   ]
  },
  {
   "cell_type": "code",
   "execution_count": 43,
   "metadata": {},
   "outputs": [],
   "source": [
    "num_boost_round = 999"
   ]
  },
  {
   "cell_type": "code",
   "execution_count": 44,
   "metadata": {},
   "outputs": [],
   "source": [
    "model = xgb.train(\n",
    "    params,\n",
    "    dtrain,\n",
    "    num_boost_round=num_boost_round,\n",
    "    evals=[(dtest, \"Test\")],\n",
    "    early_stopping_rounds=10,\n",
    "    verbose_eval=False\n",
    ")"
   ]
  },
  {
   "cell_type": "code",
   "execution_count": 45,
   "metadata": {},
   "outputs": [],
   "source": [
    "#Stopping. Best iteration:\n",
    "#[433]\tTest-mlogloss:0.349658"
   ]
  },
  {
   "cell_type": "code",
   "execution_count": 46,
   "metadata": {},
   "outputs": [],
   "source": [
    "cv_results = xgb.cv(\n",
    "    params,\n",
    "    dtrain,\n",
    "    num_boost_round=num_boost_round,\n",
    "    seed=seed,\n",
    "    nfold=5,\n",
    "    metrics={'mlogloss'},\n",
    "    early_stopping_rounds=10,\n",
    "    verbose_eval=False\n",
    ")"
   ]
  },
  {
   "cell_type": "code",
   "execution_count": 47,
   "metadata": {},
   "outputs": [
    {
     "data": {
      "text/plain": [
       "0.5054734"
      ]
     },
     "execution_count": 47,
     "metadata": {},
     "output_type": "execute_result"
    }
   ],
   "source": [
    "cv_results['test-mlogloss-mean'].min()"
   ]
  },
  {
   "cell_type": "code",
   "execution_count": 48,
   "metadata": {},
   "outputs": [
    {
     "data": {
      "text/html": [
       "<div>\n",
       "<style scoped>\n",
       "    .dataframe tbody tr th:only-of-type {\n",
       "        vertical-align: middle;\n",
       "    }\n",
       "\n",
       "    .dataframe tbody tr th {\n",
       "        vertical-align: top;\n",
       "    }\n",
       "\n",
       "    .dataframe thead th {\n",
       "        text-align: right;\n",
       "    }\n",
       "</style>\n",
       "<table border=\"1\" class=\"dataframe\">\n",
       "  <thead>\n",
       "    <tr style=\"text-align: right;\">\n",
       "      <th></th>\n",
       "      <th>test-mlogloss-mean</th>\n",
       "      <th>test-mlogloss-std</th>\n",
       "      <th>train-mlogloss-mean</th>\n",
       "      <th>train-mlogloss-std</th>\n",
       "    </tr>\n",
       "  </thead>\n",
       "  <tbody>\n",
       "    <tr>\n",
       "      <th>144</th>\n",
       "      <td>0.505634</td>\n",
       "      <td>0.005191</td>\n",
       "      <td>0.330373</td>\n",
       "      <td>0.002406</td>\n",
       "    </tr>\n",
       "    <tr>\n",
       "      <th>145</th>\n",
       "      <td>0.505623</td>\n",
       "      <td>0.005216</td>\n",
       "      <td>0.329400</td>\n",
       "      <td>0.002309</td>\n",
       "    </tr>\n",
       "    <tr>\n",
       "      <th>146</th>\n",
       "      <td>0.505508</td>\n",
       "      <td>0.005339</td>\n",
       "      <td>0.328531</td>\n",
       "      <td>0.002180</td>\n",
       "    </tr>\n",
       "    <tr>\n",
       "      <th>147</th>\n",
       "      <td>0.505494</td>\n",
       "      <td>0.005376</td>\n",
       "      <td>0.327701</td>\n",
       "      <td>0.002019</td>\n",
       "    </tr>\n",
       "    <tr>\n",
       "      <th>148</th>\n",
       "      <td>0.505473</td>\n",
       "      <td>0.005349</td>\n",
       "      <td>0.326669</td>\n",
       "      <td>0.002057</td>\n",
       "    </tr>\n",
       "  </tbody>\n",
       "</table>\n",
       "</div>"
      ],
      "text/plain": [
       "     test-mlogloss-mean  test-mlogloss-std  train-mlogloss-mean  \\\n",
       "144            0.505634           0.005191             0.330373   \n",
       "145            0.505623           0.005216             0.329400   \n",
       "146            0.505508           0.005339             0.328531   \n",
       "147            0.505494           0.005376             0.327701   \n",
       "148            0.505473           0.005349             0.326669   \n",
       "\n",
       "     train-mlogloss-std  \n",
       "144            0.002406  \n",
       "145            0.002309  \n",
       "146            0.002180  \n",
       "147            0.002019  \n",
       "148            0.002057  "
      ]
     },
     "execution_count": 48,
     "metadata": {},
     "output_type": "execute_result"
    }
   ],
   "source": [
    "cv_results.tail()"
   ]
  },
  {
   "cell_type": "markdown",
   "metadata": {},
   "source": [
    "### Parameters max_depth and min_child_weight\n",
    "Those parameters add constraints on the architecture of the trees.\n",
    "\n",
    "- *max_depth* is the maximum number of nodes allowed from the root to the farthest leaf of a tree. Deeper trees can model more complex relationships by adding more nodes, but as we go deeper, splits become less relevant and are sometimes only due to noise, causing the model to overfit.\n",
    "- *min_child_weight* is the minimum weight (or number of samples if all samples have a weight of 1) required in order to create a new node in the tree. A smaller min_child_weight allows the algorithm to create children that correspond to fewer samples, thus allowing for more complex trees, but again, more likely to overfit.\n",
    "\n",
    "Thus, those parameters can be used to control the complexity of the trees. It is important to tune them together in order to find a good trade-off between model bias and variance"
   ]
  },
  {
   "cell_type": "code",
   "execution_count": 49,
   "metadata": {},
   "outputs": [],
   "source": [
    "# You can try wider intervals with a larger step between\n",
    "# each value and then narrow it down. Here after several\n",
    "# iteration I found that the optimal value was in the\n",
    "# following ranges.\n",
    "gridsearch_params = [\n",
    "    (max_depth, min_child_weight)\n",
    "    for max_depth in (10,15,20)\n",
    "    for min_child_weight in (5,10,15)\n",
    "]"
   ]
  },
  {
   "cell_type": "code",
   "execution_count": 50,
   "metadata": {},
   "outputs": [
    {
     "data": {
      "text/plain": [
       "[(10, 5),\n",
       " (10, 10),\n",
       " (10, 15),\n",
       " (15, 5),\n",
       " (15, 10),\n",
       " (15, 15),\n",
       " (20, 5),\n",
       " (20, 10),\n",
       " (20, 15)]"
      ]
     },
     "execution_count": 50,
     "metadata": {},
     "output_type": "execute_result"
    }
   ],
   "source": [
    "gridsearch_params"
   ]
  },
  {
   "cell_type": "code",
   "execution_count": 51,
   "metadata": {},
   "outputs": [
    {
     "name": "stdout",
     "output_type": "stream",
     "text": [
      "CV with max_depth=10, min_child_weight=5\n",
      "\tmlogloss 0.49779239999999997 for 63 rounds\n",
      "CV with max_depth=10, min_child_weight=10\n",
      "\tmlogloss 0.4973318 for 72 rounds\n",
      "CV with max_depth=10, min_child_weight=15\n",
      "\tmlogloss 0.49705639999999995 for 78 rounds\n",
      "CV with max_depth=15, min_child_weight=5\n",
      "\tmlogloss 0.49888960000000004 for 24 rounds\n",
      "CV with max_depth=15, min_child_weight=10\n",
      "\tmlogloss 0.4956408 for 32 rounds\n",
      "CV with max_depth=15, min_child_weight=15\n",
      "\tmlogloss 0.4966908 for 45 rounds\n",
      "CV with max_depth=20, min_child_weight=5\n",
      "\tmlogloss 0.503247 for 17 rounds\n",
      "CV with max_depth=20, min_child_weight=10\n",
      "\tmlogloss 0.4970682 for 22 rounds\n",
      "CV with max_depth=20, min_child_weight=15\n",
      "\tmlogloss 0.49752219999999997 for 30 rounds\n",
      "Best params: 15, 10, mlogloss: 0.4956408\n"
     ]
    },
    {
     "data": {
      "text/html": [
       "<div>\n",
       "<style scoped>\n",
       "    .dataframe tbody tr th:only-of-type {\n",
       "        vertical-align: middle;\n",
       "    }\n",
       "\n",
       "    .dataframe tbody tr th {\n",
       "        vertical-align: top;\n",
       "    }\n",
       "\n",
       "    .dataframe thead th {\n",
       "        text-align: right;\n",
       "    }\n",
       "</style>\n",
       "<table border=\"1\" class=\"dataframe\">\n",
       "  <thead>\n",
       "    <tr style=\"text-align: right;\">\n",
       "      <th></th>\n",
       "      <th>test-mlogloss-mean</th>\n",
       "      <th>test-mlogloss-std</th>\n",
       "      <th>train-mlogloss-mean</th>\n",
       "      <th>train-mlogloss-std</th>\n",
       "    </tr>\n",
       "  </thead>\n",
       "  <tbody>\n",
       "    <tr>\n",
       "      <th>26</th>\n",
       "      <td>0.498015</td>\n",
       "      <td>0.006047</td>\n",
       "      <td>0.304728</td>\n",
       "      <td>0.002411</td>\n",
       "    </tr>\n",
       "    <tr>\n",
       "      <th>27</th>\n",
       "      <td>0.498096</td>\n",
       "      <td>0.006006</td>\n",
       "      <td>0.301932</td>\n",
       "      <td>0.002710</td>\n",
       "    </tr>\n",
       "    <tr>\n",
       "      <th>28</th>\n",
       "      <td>0.497775</td>\n",
       "      <td>0.005949</td>\n",
       "      <td>0.298754</td>\n",
       "      <td>0.003022</td>\n",
       "    </tr>\n",
       "    <tr>\n",
       "      <th>29</th>\n",
       "      <td>0.497626</td>\n",
       "      <td>0.006069</td>\n",
       "      <td>0.295972</td>\n",
       "      <td>0.003045</td>\n",
       "    </tr>\n",
       "    <tr>\n",
       "      <th>30</th>\n",
       "      <td>0.497522</td>\n",
       "      <td>0.006225</td>\n",
       "      <td>0.293463</td>\n",
       "      <td>0.002711</td>\n",
       "    </tr>\n",
       "  </tbody>\n",
       "</table>\n",
       "</div>"
      ],
      "text/plain": [
       "    test-mlogloss-mean  test-mlogloss-std  train-mlogloss-mean  \\\n",
       "26            0.498015           0.006047             0.304728   \n",
       "27            0.498096           0.006006             0.301932   \n",
       "28            0.497775           0.005949             0.298754   \n",
       "29            0.497626           0.006069             0.295972   \n",
       "30            0.497522           0.006225             0.293463   \n",
       "\n",
       "    train-mlogloss-std  \n",
       "26            0.002411  \n",
       "27            0.002710  \n",
       "28            0.003022  \n",
       "29            0.003045  \n",
       "30            0.002711  "
      ]
     },
     "execution_count": 51,
     "metadata": {},
     "output_type": "execute_result"
    }
   ],
   "source": [
    "# Define initial best params and logloss\n",
    "min_logloss = float(\"Inf\")\n",
    "best_params = None\n",
    "for max_depth, min_child_weight in gridsearch_params:\n",
    "    print(\"CV with max_depth={}, min_child_weight={}\".format(max_depth,min_child_weight))\n",
    "    # Update our parameters\n",
    "    params['max_depth'] = max_depth\n",
    "    params['min_child_weight'] = min_child_weight   \n",
    "    \n",
    "    # Run CV\n",
    "    cv_results = xgb.cv(\n",
    "        params,\n",
    "        dtrain,\n",
    "        num_boost_round=num_boost_round,\n",
    "        seed=seed,\n",
    "        nfold=5,\n",
    "        metrics={'mlogloss'},\n",
    "        early_stopping_rounds=10,\n",
    "        verbose_eval=False\n",
    "    )\n",
    "    # Update best logloss\n",
    "    mean_mlogloss = cv_results['test-mlogloss-mean'].min()\n",
    "    boost_rounds = cv_results['test-mlogloss-mean'].argmin()\n",
    "    print(\"\\tmlogloss {} for {} rounds\".format(mean_mlogloss, boost_rounds))\n",
    "    if mean_mlogloss < min_logloss:\n",
    "        min_logloss = mean_mlogloss\n",
    "        best_params = (max_depth,min_child_weight)\n",
    "        \n",
    "print(\"Best params: {}, {}, mlogloss: {}\".format(best_params[0], best_params[1], min_logloss))\n",
    "cv_results.tail()"
   ]
  },
  {
   "cell_type": "code",
   "execution_count": null,
   "metadata": {},
   "outputs": [],
   "source": []
  },
  {
   "cell_type": "code",
   "execution_count": 52,
   "metadata": {},
   "outputs": [],
   "source": [
    "params['max_depth'] = 15\n",
    "params['min_child_weight'] = 10"
   ]
  },
  {
   "cell_type": "markdown",
   "metadata": {},
   "source": [
    "### Parameters subsample and colsample_bytree\n",
    "Those parameters control the sampling of the dataset that is done at each boosting round.\n",
    "\n",
    "Instead of using the whole training set every time, we can build a tree on slightly different data at each step, which makes it less likely to overfit to a single sample or feature.\n",
    "\n",
    "- *subsample* corresponds to the fraction of observations (the rows) to subsample at each step. By default it is set to 1 meaning that we use all rows.\n",
    "- *colsample_bytree* corresponds to the fraction of features (the columns) to use. By default it is set to 1 meaning that we will use all features.\n",
    "\n",
    "Let’s see if we can get better results by tuning those parameters together."
   ]
  },
  {
   "cell_type": "code",
   "execution_count": 53,
   "metadata": {},
   "outputs": [],
   "source": [
    "gridsearch_params = [\n",
    "    (subsample, colsample)\n",
    "    for subsample in [i/10. for i in range(7,11)]\n",
    "    for colsample in [i/10. for i in range(7,11)]\n",
    "]"
   ]
  },
  {
   "cell_type": "code",
   "execution_count": 54,
   "metadata": {},
   "outputs": [
    {
     "name": "stdout",
     "output_type": "stream",
     "text": [
      "CV with subsample=1.0, colsample=1.0\n",
      "\tmlogloss 0.4956408 for 32 rounds\n",
      "CV with subsample=1.0, colsample=0.9\n",
      "\tmlogloss 0.4950042 for 34 rounds\n",
      "CV with subsample=1.0, colsample=0.8\n",
      "\tmlogloss 0.49373199999999995 for 33 rounds\n",
      "CV with subsample=1.0, colsample=0.7\n",
      "\tmlogloss 0.49057680000000004 for 33 rounds\n",
      "CV with subsample=0.9, colsample=1.0\n",
      "\tmlogloss 0.4966742 for 27 rounds\n",
      "CV with subsample=0.9, colsample=0.9\n",
      "\tmlogloss 0.4954024 for 33 rounds\n",
      "CV with subsample=0.9, colsample=0.8\n",
      "\tmlogloss 0.49413819999999997 for 33 rounds\n",
      "CV with subsample=0.9, colsample=0.7\n",
      "\tmlogloss 0.4950996 for 34 rounds\n",
      "CV with subsample=0.8, colsample=1.0\n",
      "\tmlogloss 0.49766379999999993 for 27 rounds\n",
      "CV with subsample=0.8, colsample=0.9\n",
      "\tmlogloss 0.4958212000000001 for 33 rounds\n",
      "CV with subsample=0.8, colsample=0.8\n",
      "\tmlogloss 0.49614079999999994 for 36 rounds\n",
      "CV with subsample=0.8, colsample=0.7\n",
      "\tmlogloss 0.49429920000000005 for 34 rounds\n",
      "CV with subsample=0.7, colsample=1.0\n",
      "\tmlogloss 0.49904460000000006 for 35 rounds\n",
      "CV with subsample=0.7, colsample=0.9\n",
      "\tmlogloss 0.4972988 for 29 rounds\n",
      "CV with subsample=0.7, colsample=0.8\n",
      "\tmlogloss 0.49779439999999997 for 36 rounds\n",
      "CV with subsample=0.7, colsample=0.7\n",
      "\tmlogloss 0.49834180000000006 for 38 rounds\n",
      "Best params: 1.0, 0.7, mlogloss: 0.49057680000000004\n"
     ]
    }
   ],
   "source": [
    "# Define initial best params and loss\n",
    "# We start by the largest values and go down to the smallest\n",
    "for subsample, colsample in reversed(gridsearch_params):\n",
    "    print(\"CV with subsample={}, colsample={}\".format(subsample,colsample))\n",
    "    \n",
    "     # We update our parameters\n",
    "    params['subsample'] = subsample\n",
    "    params['colsample_bytree'] = colsample  \n",
    "    \n",
    "    # Run CV\n",
    "    cv_results = xgb.cv(\n",
    "        params,\n",
    "        dtrain,\n",
    "        num_boost_round=num_boost_round,\n",
    "        seed=42,\n",
    "        nfold=5,\n",
    "        metrics={'mlogloss'},\n",
    "        early_stopping_rounds=10,\n",
    "        verbose_eval=False\n",
    "    )\n",
    "    # Update best logloss\n",
    "    mean_mlogloss = cv_results['test-mlogloss-mean'].min()\n",
    "    boost_rounds = cv_results['test-mlogloss-mean'].argmin()\n",
    "    print(\"\\tmlogloss {} for {} rounds\".format(mean_mlogloss, boost_rounds))\n",
    "    if mean_mlogloss < min_logloss:\n",
    "        min_logloss = mean_mlogloss\n",
    "        best_params = (subsample,colsample)\n",
    "\n",
    "print(\"Best params: {}, {}, mlogloss: {}\".format(best_params[0], best_params[1], min_logloss))\n"
   ]
  },
  {
   "cell_type": "code",
   "execution_count": 55,
   "metadata": {},
   "outputs": [],
   "source": [
    "params['subsample'] = 1.\n",
    "params['colsample_bytree'] = 0.7"
   ]
  },
  {
   "cell_type": "markdown",
   "metadata": {},
   "source": [
    "### Parameter ETA\n",
    "The ETA parameter controls the learning rate. It corresponds to the shrinkage of the weights associated to features after each round, in other words it defines the amount of \"correction\" we make at each step"
   ]
  },
  {
   "cell_type": "code",
   "execution_count": 56,
   "metadata": {},
   "outputs": [],
   "source": [
    "params['eta'] = 0.1"
   ]
  },
  {
   "cell_type": "code",
   "execution_count": 57,
   "metadata": {},
   "outputs": [
    {
     "data": {
      "text/plain": [
       "{'max_depth': 15,\n",
       " 'min_child_weight': 10,\n",
       " 'eta': 0.1,\n",
       " 'subsample': 1.0,\n",
       " 'colsample_bytree': 0.7,\n",
       " 'objective': 'multi:softmax',\n",
       " 'num_class': 3,\n",
       " 'silent': 1,\n",
       " 'eval_metric': 'mlogloss'}"
      ]
     },
     "execution_count": 57,
     "metadata": {},
     "output_type": "execute_result"
    }
   ],
   "source": [
    "params"
   ]
  },
  {
   "cell_type": "code",
   "execution_count": 58,
   "metadata": {},
   "outputs": [],
   "source": [
    "model = xgb.train(\n",
    "    params,\n",
    "    dtrain,\n",
    "    num_boost_round=num_boost_round,\n",
    "    evals=[(dtest, \"Test\")],\n",
    "    early_stopping_rounds=10,\n",
    "    verbose_eval=False\n",
    ")"
   ]
  },
  {
   "cell_type": "code",
   "execution_count": 59,
   "metadata": {},
   "outputs": [
    {
     "name": "stdout",
     "output_type": "stream",
     "text": [
      "Best logloss: 0.47 in 126 rounds\n"
     ]
    }
   ],
   "source": [
    "print(\"Best logloss: {:.2f} in {} rounds\".format(model.best_score, model.best_iteration+1))"
   ]
  },
  {
   "cell_type": "code",
   "execution_count": 60,
   "metadata": {},
   "outputs": [],
   "source": [
    "num_boost_round = model.best_iteration + 1\n",
    "best_model = xgb.train(\n",
    "    params,\n",
    "    dtrain,\n",
    "    num_boost_round=num_boost_round,\n",
    "    evals=[(dtest, \"Test\")],\n",
    "    verbose_eval=False\n",
    ")"
   ]
  },
  {
   "cell_type": "code",
   "execution_count": 61,
   "metadata": {
    "scrolled": true
   },
   "outputs": [
    {
     "name": "stdout",
     "output_type": "stream",
     "text": [
      "6971\n",
      "721\n",
      "11910\n"
     ]
    }
   ],
   "source": [
    "print(sum(best_model.predict(dtest)==0))\n",
    "print(sum(best_model.predict(dtest)==1))\n",
    "print(sum(best_model.predict(dtest)==2))"
   ]
  },
  {
   "cell_type": "code",
   "execution_count": 62,
   "metadata": {},
   "outputs": [
    {
     "name": "stdout",
     "output_type": "stream",
     "text": [
      "7532\n",
      "1425\n",
      "10645\n"
     ]
    }
   ],
   "source": [
    "print(sum(y_test == 0))\n",
    "print(sum(y_test == 1))\n",
    "print(sum(y_test == 2))"
   ]
  },
  {
   "cell_type": "code",
   "execution_count": 64,
   "metadata": {},
   "outputs": [
    {
     "data": {
      "text/plain": [
       "0.8122640546882971"
      ]
     },
     "execution_count": 64,
     "metadata": {},
     "output_type": "execute_result"
    }
   ],
   "source": [
    "#calculate f1 score \n",
    "from sklearn.metrics import f1_score\n",
    "f1_score(y_test, best_model.predict(dtest), average='micro')  "
   ]
  },
  {
   "cell_type": "code",
   "execution_count": 65,
   "metadata": {},
   "outputs": [
    {
     "data": {
      "text/plain": [
       "0.8122640546882971"
      ]
     },
     "execution_count": 65,
     "metadata": {},
     "output_type": "execute_result"
    }
   ],
   "source": [
    "sum(best_model.predict(dtest) == y_test)/best_model.predict(dtest)\n",
    "acc = len(y_test[y_test==best_model.predict(dtest)])/len(y_test)\n",
    "acc"
   ]
  },
  {
   "cell_type": "code",
   "execution_count": 66,
   "metadata": {},
   "outputs": [],
   "source": [
    "best_model.save_model(\"my_model.model\")"
   ]
  },
  {
   "cell_type": "code",
   "execution_count": 67,
   "metadata": {},
   "outputs": [
    {
     "data": {
      "text/plain": [
       "array([0., 0., 2., ..., 2., 2., 1.], dtype=float32)"
      ]
     },
     "execution_count": 67,
     "metadata": {},
     "output_type": "execute_result"
    }
   ],
   "source": [
    "loaded_model = xgb.Booster()\n",
    "loaded_model.load_model(\"my_model.model\")\n",
    "# And use it for predictions.\n",
    "loaded_model.predict(dtest)"
   ]
  },
  {
   "cell_type": "code",
   "execution_count": null,
   "metadata": {},
   "outputs": [],
   "source": []
  }
 ],
 "metadata": {
  "kernelspec": {
   "display_name": "Python 3",
   "language": "python",
   "name": "python3"
  },
  "language_info": {
   "codemirror_mode": {
    "name": "ipython",
    "version": 3
   },
   "file_extension": ".py",
   "mimetype": "text/x-python",
   "name": "python",
   "nbconvert_exporter": "python",
   "pygments_lexer": "ipython3",
   "version": "3.6.4"
  }
 },
 "nbformat": 4,
 "nbformat_minor": 2
}
