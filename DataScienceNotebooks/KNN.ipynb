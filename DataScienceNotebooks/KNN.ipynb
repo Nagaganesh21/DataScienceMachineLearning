{
 "cells": [
  {
   "cell_type": "markdown",
   "metadata": {},
   "source": [
    "# KNN investigation with scikit learn"
   ]
  },
  {
   "cell_type": "markdown",
   "metadata": {},
   "source": [
    "Dataset is avaialble at:\n",
    " - http://archive.ics.uci.edu/ml/datasets/Ionosphere\n",
    "dataset desciption:\n",
    " - https://archive.ics.uci.edu/ml/machine-learning-databases/ionosphere/ionosphere.names"
   ]
  },
  {
   "cell_type": "code",
   "execution_count": 125,
   "metadata": {},
   "outputs": [],
   "source": [
    "import numpy as np\n",
    "import csv\n",
    "import pandas as pd\n",
    "from sklearn.model_selection import train_test_split\n",
    "from sklearn.neighbors import KNeighborsClassifier\n",
    "from sklearn.model_selection import cross_val_score\n",
    "from sklearn.preprocessing import MinMaxScaler\n",
    "from sklearn.pipeline import Pipeline\n",
    "from matplotlib import pyplot as plt\n",
    "%matplotlib inline"
   ]
  },
  {
   "cell_type": "code",
   "execution_count": 66,
   "metadata": {},
   "outputs": [],
   "source": [
    "data_filename = \"data/ionosphere.txt\"\n",
    "X = np.zeros((351,34),dtype = 'float')\n",
    "y = np.zeros((351,),dtype = 'bool')"
   ]
  },
  {
   "cell_type": "code",
   "execution_count": 67,
   "metadata": {},
   "outputs": [],
   "source": [
    "with open(data_filename,'r') as input_file:\n",
    "    reader = csv.reader(input_file)\n",
    "    for i, row in enumerate(reader):\n",
    "        #get the feature values and encode\n",
    "        data = [float(value) for value in row[:-1]]\n",
    "        X[i] = data\n",
    "        #encode the target\n",
    "        y[i] = row[-1] == 'g'"
   ]
  },
  {
   "cell_type": "code",
   "execution_count": 69,
   "metadata": {
    "collapsed": true
   },
   "outputs": [],
   "source": [
    "seed = 7\n",
    "X_train,X_test, y_train, y_test = train_test_split(X,y,random_state = seed)"
   ]
  },
  {
   "cell_type": "code",
   "execution_count": 75,
   "metadata": {},
   "outputs": [
    {
     "data": {
      "text/plain": [
       "KNeighborsClassifier(algorithm='auto', leaf_size=30, metric='minkowski',\n",
       "           metric_params=None, n_jobs=1, n_neighbors=5, p=2,\n",
       "           weights='uniform')"
      ]
     },
     "execution_count": 75,
     "metadata": {},
     "output_type": "execute_result"
    }
   ],
   "source": [
    "#KNN with deafult size of 5\n",
    "estimator = KNeighborsClassifier()\n",
    "estimator.fit(X_train, y_train)"
   ]
  },
  {
   "cell_type": "code",
   "execution_count": 77,
   "metadata": {},
   "outputs": [
    {
     "name": "stdout",
     "output_type": "stream",
     "text": [
      "The accuracy is 88.6\n"
     ]
    }
   ],
   "source": [
    "#train the estimator and evaluate\n",
    "y_pred = estimator.predict(X_test)\n",
    "accuaracy = np.mean(y_test==y_pred)*100\n",
    "print(\"The accuracy is {0:.1f}\".format(accuaracy))"
   ]
  },
  {
   "cell_type": "code",
   "execution_count": 84,
   "metadata": {},
   "outputs": [
    {
     "name": "stdout",
     "output_type": "stream",
     "text": [
      "225\n",
      "126\n"
     ]
    }
   ],
   "source": [
    "#Check for class imbalances\n",
    "print(np.sum([y==1]))\n",
    "print(np.sum([y==0]))"
   ]
  },
  {
   "cell_type": "code",
   "execution_count": 99,
   "metadata": {},
   "outputs": [
    {
     "name": "stdout",
     "output_type": "stream",
     "text": [
      "The average accuracy is 84.0\n"
     ]
    }
   ],
   "source": [
    "#Try cross val score\n",
    "scores = cross_val_score(estimator,X,y,scoring='accuracy',cv=5)\n",
    "average_accuracy = np.mean(scores)*100\n",
    "print(\"The average accuracy is {0:.1f}\".format(average_accuracy))"
   ]
  },
  {
   "cell_type": "code",
   "execution_count": 102,
   "metadata": {},
   "outputs": [
    {
     "name": "stdout",
     "output_type": "stream",
     "text": [
      "[ 0.84507042  0.78571429  0.82857143  0.91428571  0.84285714]\n",
      "[ 0.84507042  0.81428571  0.84285714  0.94285714  0.91428571]\n",
      "[ 0.84507042  0.74285714  0.78571429  0.92857143  0.85714286]\n",
      "[ 0.84507042  0.77142857  0.8         0.92857143  0.87142857]\n",
      "[ 0.83098592  0.77142857  0.8         0.88571429  0.84285714]\n",
      "[ 0.84507042  0.77142857  0.81428571  0.9         0.85714286]\n",
      "[ 0.83098592  0.77142857  0.81428571  0.87142857  0.81428571]\n",
      "[ 0.84507042  0.77142857  0.81428571  0.88571429  0.82857143]\n",
      "[ 0.84507042  0.77142857  0.8         0.87142857  0.82857143]\n",
      "[ 0.85915493  0.78571429  0.81428571  0.87142857  0.85714286]\n",
      "[ 0.85915493  0.77142857  0.8         0.87142857  0.84285714]\n",
      "[ 0.85915493  0.77142857  0.81428571  0.88571429  0.88571429]\n",
      "[ 0.83098592  0.77142857  0.81428571  0.85714286  0.87142857]\n",
      "[ 0.85915493  0.77142857  0.81428571  0.87142857  0.88571429]\n",
      "[ 0.84507042  0.75714286  0.82857143  0.85714286  0.87142857]\n",
      "[ 0.85915493  0.77142857  0.82857143  0.87142857  0.88571429]\n",
      "[ 0.84507042  0.77142857  0.82857143  0.87142857  0.85714286]\n",
      "[ 0.84507042  0.77142857  0.82857143  0.87142857  0.87142857]\n",
      "[ 0.84507042  0.75714286  0.81428571  0.87142857  0.84285714]\n",
      "[ 0.84507042  0.75714286  0.82857143  0.88571429  0.88571429]\n"
     ]
    }
   ],
   "source": [
    "#try different number of neighbours, with number of folds =5\n",
    "avg_scores = []\n",
    "all_scores = []\n",
    "param_values = list(range(1,21))\n",
    "for n_neighbors in param_values:\n",
    "    estimator = KNeighborsClassifier(n_neighbors=n_neighbors)\n",
    "    scores = cross_val_score(estimator,X,y, scoring='accuracy',cv=5)\n",
    "    print(scores)\n",
    "    avg_scores.append(np.mean(scores))\n",
    "    all_scores.append(scores)    "
   ]
  },
  {
   "cell_type": "code",
   "execution_count": 107,
   "metadata": {},
   "outputs": [
    {
     "data": {
      "text/plain": [
       "[<matplotlib.lines.Line2D at 0x1190fb240>]"
      ]
     },
     "execution_count": 107,
     "metadata": {},
     "output_type": "execute_result"
    },
    {
     "data": {
      "image/png": "[encoded data removed]",
      "text/plain": [
       "<matplotlib.figure.Figure at 0x1156cd438>"
      ]
     },
     "metadata": {},
     "output_type": "display_data"
    }
   ],
   "source": [
    "#plot parameter value against scores\n",
    "plt.plot(param_values,avg_scores,\"-o\")"
   ]
  },
  {
   "cell_type": "markdown",
   "metadata": {},
   "source": [
    "### Preprocessing the dataset"
   ]
  },
  {
   "cell_type": "code",
   "execution_count": 110,
   "metadata": {},
   "outputs": [],
   "source": [
    "#try making features scale very uneven; divide every second feature by 10\n",
    "X_broke = np.array(X)\n",
    "X_broke[:,::2] /= 10"
   ]
  },
  {
   "cell_type": "code",
   "execution_count": 113,
   "metadata": {},
   "outputs": [
    {
     "name": "stdout",
     "output_type": "stream",
     "text": [
      "The original average accuracy for is 82.6%\n",
      "The 'broken' average accuracy for is 73.8%\n"
     ]
    }
   ],
   "source": [
    "#uneven feature distances lead to worse performance in KNN\n",
    "estimator = KNeighborsClassifier()\n",
    "original_scores = cross_val_score(estimator, X, y,scoring='accuracy',cv=5)\n",
    "print(\"The original average accuracy for is {0:.1f}%\".format(np.mean(original_scores) * 100))\n",
    "broken_scores = cross_val_score(estimator, X_broke, y,scoring='accuracy',cv=5)\n",
    "print(\"The 'broken' average accuracy for is {0:.1f}%\".format(np.mean(broken_scores) * 100))"
   ]
  },
  {
   "cell_type": "code",
   "execution_count": 122,
   "metadata": {},
   "outputs": [
    {
     "name": "stdout",
     "output_type": "stream",
     "text": [
      "The accuracy for corrected scaling is 82.9%\n"
     ]
    }
   ],
   "source": [
    "#Apply scaling to the broken dataset\n",
    "#use min amx scaler; scale values between 0 and 1\n",
    "X_trans = MinMaxScaler().fit_transform(X_broke)\n",
    "estimator = KNeighborsClassifier()\n",
    "transformed_scores = cross_val_score(estimator, X_trans,y,scoring='accuracy',cv=5)\n",
    "print('The accuracy for corrected scaling is {0:.1f}%'.format(np.mean(transformed_scores)*100))"
   ]
  },
  {
   "cell_type": "markdown",
   "metadata": {},
   "source": [
    "### Applying a pipeline"
   ]
  },
  {
   "cell_type": "code",
   "execution_count": 131,
   "metadata": {},
   "outputs": [
    {
     "name": "stdout",
     "output_type": "stream",
     "text": [
      "The pipeline scored an average accuracy for is 82.9%\n"
     ]
    }
   ],
   "source": [
    "scaling_pipeline = Pipeline([('scale', MinMaxScaler()),('predict', KNeighborsClassifier())])\n",
    "scores = cross_val_score(scaling_pipeline, X_broke, y, scoring='accuracy')\n",
    "print(\"The pipeline scored an average accuracy for is {0:.1f}%\".format(np.mean(transformed_scores) * 100))"
   ]
  },
  {
   "cell_type": "code",
   "execution_count": null,
   "metadata": {
    "collapsed": true
   },
   "outputs": [],
   "source": []
  }
 ],
 "metadata": {
  "kernelspec": {
   "display_name": "Python 3",
   "language": "python",
   "name": "python3"
  },
  "language_info": {
   "codemirror_mode": {
    "name": "ipython",
    "version": 3
   },
   "file_extension": ".py",
   "mimetype": "text/x-python",
   "name": "python",
   "nbconvert_exporter": "python",
   "pygments_lexer": "ipython3",
   "version": "3.6.1"
  }
 },
 "nbformat": 4,
 "nbformat_minor": 2
}
