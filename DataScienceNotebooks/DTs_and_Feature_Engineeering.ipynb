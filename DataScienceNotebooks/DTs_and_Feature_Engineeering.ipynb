{
 "cells": [
  {
   "cell_type": "markdown",
   "metadata": {},
   "source": [
    "# Predicting winners of the NBA 2016-2017 with Decision Trees"
   ]
  },
  {
   "cell_type": "markdown",
   "metadata": {},
   "source": [
    "Take each of the months and amalgamate into a text file\n",
    "- https://www.basketball-reference.com/leagues/NBA_2017_games.html"
   ]
  },
  {
   "cell_type": "code",
   "execution_count": 274,
   "metadata": {},
   "outputs": [],
   "source": [
    "import pandas as pd\n",
    "from sklearn.tree import DecisionTreeClassifier\n",
    "from sklearn.model_selection import cross_val_score\n",
    "from sklearn.preprocessing import MinMaxScaler\n",
    "from sklearn.pipeline import Pipeline\n",
    "import numpy as np\n",
    "import os\n",
    "from collections import defaultdict\n",
    "from sklearn.ensemble import RandomForestClassifier\n",
    "from sklearn.preprocessing import OneHotEncoder\n",
    "from sklearn.preprocessing import LabelEncoder\n",
    "from sklearn.grid_search import GridSearchCV"
   ]
  },
  {
   "cell_type": "code",
   "execution_count": 275,
   "metadata": {
    "collapsed": true
   },
   "outputs": [],
   "source": [
    "data_folder = 'data'\n",
    "data_filename = 'data/basketball.csv'\n",
    "df = pd.read_csv(data_filename)"
   ]
  },
  {
   "cell_type": "code",
   "execution_count": 276,
   "metadata": {},
   "outputs": [
    {
     "data": {
      "text/html": [
       "<div>\n",
       "<style>\n",
       "    .dataframe thead tr:only-child th {\n",
       "        text-align: right;\n",
       "    }\n",
       "\n",
       "    .dataframe thead th {\n",
       "        text-align: left;\n",
       "    }\n",
       "\n",
       "    .dataframe tbody tr th {\n",
       "        vertical-align: top;\n",
       "    }\n",
       "</style>\n",
       "<table border=\"1\" class=\"dataframe\">\n",
       "  <thead>\n",
       "    <tr style=\"text-align: right;\">\n",
       "      <th></th>\n",
       "      <th>Date</th>\n",
       "      <th>Start (ET)</th>\n",
       "      <th>Visitor/Neutral</th>\n",
       "      <th>PTS</th>\n",
       "      <th>Home/Neutral</th>\n",
       "      <th>PTS.1</th>\n",
       "      <th>Unnamed: 6</th>\n",
       "      <th>Unnamed: 7</th>\n",
       "      <th>Attend.</th>\n",
       "      <th>Notes</th>\n",
       "    </tr>\n",
       "  </thead>\n",
       "  <tbody>\n",
       "    <tr>\n",
       "      <th>0</th>\n",
       "      <td>Tue Oct 25 2016</td>\n",
       "      <td>7:30 pm</td>\n",
       "      <td>New York Knicks</td>\n",
       "      <td>88</td>\n",
       "      <td>Cleveland Cavaliers</td>\n",
       "      <td>117</td>\n",
       "      <td>Box Score</td>\n",
       "      <td>NaN</td>\n",
       "      <td>20562</td>\n",
       "      <td>NaN</td>\n",
       "    </tr>\n",
       "    <tr>\n",
       "      <th>1</th>\n",
       "      <td>Tue Oct 25 2016</td>\n",
       "      <td>10:30 pm</td>\n",
       "      <td>San Antonio Spurs</td>\n",
       "      <td>129</td>\n",
       "      <td>Golden State Warriors</td>\n",
       "      <td>100</td>\n",
       "      <td>Box Score</td>\n",
       "      <td>NaN</td>\n",
       "      <td>19596</td>\n",
       "      <td>NaN</td>\n",
       "    </tr>\n",
       "    <tr>\n",
       "      <th>2</th>\n",
       "      <td>Tue Oct 25 2016</td>\n",
       "      <td>10:00 pm</td>\n",
       "      <td>Utah Jazz</td>\n",
       "      <td>104</td>\n",
       "      <td>Portland Trail Blazers</td>\n",
       "      <td>113</td>\n",
       "      <td>Box Score</td>\n",
       "      <td>NaN</td>\n",
       "      <td>19446</td>\n",
       "      <td>NaN</td>\n",
       "    </tr>\n",
       "    <tr>\n",
       "      <th>3</th>\n",
       "      <td>Wed Oct 26 2016</td>\n",
       "      <td>7:30 pm</td>\n",
       "      <td>Brooklyn Nets</td>\n",
       "      <td>117</td>\n",
       "      <td>Boston Celtics</td>\n",
       "      <td>122</td>\n",
       "      <td>Box Score</td>\n",
       "      <td>NaN</td>\n",
       "      <td>18624</td>\n",
       "      <td>NaN</td>\n",
       "    </tr>\n",
       "    <tr>\n",
       "      <th>4</th>\n",
       "      <td>Wed Oct 26 2016</td>\n",
       "      <td>7:00 pm</td>\n",
       "      <td>Dallas Mavericks</td>\n",
       "      <td>121</td>\n",
       "      <td>Indiana Pacers</td>\n",
       "      <td>130</td>\n",
       "      <td>Box Score</td>\n",
       "      <td>OT</td>\n",
       "      <td>17923</td>\n",
       "      <td>NaN</td>\n",
       "    </tr>\n",
       "  </tbody>\n",
       "</table>\n",
       "</div>"
      ],
      "text/plain": [
       "              Date Start (ET)    Visitor/Neutral  PTS            Home/Neutral  \\\n",
       "0  Tue Oct 25 2016    7:30 pm    New York Knicks   88     Cleveland Cavaliers   \n",
       "1  Tue Oct 25 2016   10:30 pm  San Antonio Spurs  129   Golden State Warriors   \n",
       "2  Tue Oct 25 2016   10:00 pm          Utah Jazz  104  Portland Trail Blazers   \n",
       "3  Wed Oct 26 2016    7:30 pm      Brooklyn Nets  117          Boston Celtics   \n",
       "4  Wed Oct 26 2016    7:00 pm   Dallas Mavericks  121          Indiana Pacers   \n",
       "\n",
       "   PTS.1 Unnamed: 6 Unnamed: 7  Attend. Notes  \n",
       "0    117  Box Score        NaN    20562   NaN  \n",
       "1    100  Box Score        NaN    19596   NaN  \n",
       "2    113  Box Score        NaN    19446   NaN  \n",
       "3    122  Box Score        NaN    18624   NaN  \n",
       "4    130  Box Score         OT    17923   NaN  "
      ]
     },
     "execution_count": 276,
     "metadata": {},
     "output_type": "execute_result"
    }
   ],
   "source": [
    "df.head()"
   ]
  },
  {
   "cell_type": "code",
   "execution_count": 277,
   "metadata": {},
   "outputs": [
    {
     "name": "stdout",
     "output_type": "stream",
     "text": [
      "<class 'pandas.core.frame.DataFrame'>\n",
      "RangeIndex: 1309 entries, 0 to 1308\n",
      "Data columns (total 10 columns):\n",
      "Date               1309 non-null object\n",
      "Start (ET)         1309 non-null object\n",
      "Visitor/Neutral    1309 non-null object\n",
      "PTS                1309 non-null int64\n",
      "Home/Neutral       1309 non-null object\n",
      "PTS.1              1309 non-null int64\n",
      "Unnamed: 6         1309 non-null object\n",
      "Unnamed: 7         73 non-null object\n",
      "Attend.            1309 non-null int64\n",
      "Notes              3 non-null object\n",
      "dtypes: int64(3), object(7)\n",
      "memory usage: 102.3+ KB\n"
     ]
    }
   ],
   "source": [
    "df.info()"
   ]
  },
  {
   "cell_type": "code",
   "execution_count": 278,
   "metadata": {
    "collapsed": true
   },
   "outputs": [],
   "source": [
    "#Clean up the header row into something more appropiate\n",
    "df = pd.read_csv(data_filename, parse_dates=[\"Date\"])\n",
    "\n",
    "df.columns = [\"Date\", \"Start (ET)\", \"Visitor Team\", \"VisitorPts\", \"Home Team\", \"HomePts\", \"OT?\", \"Score Type\", \"Attendance\",\"Notes\"]"
   ]
  },
  {
   "cell_type": "code",
   "execution_count": 279,
   "metadata": {},
   "outputs": [
    {
     "data": {
      "text/html": [
       "<div>\n",
       "<style>\n",
       "    .dataframe thead tr:only-child th {\n",
       "        text-align: right;\n",
       "    }\n",
       "\n",
       "    .dataframe thead th {\n",
       "        text-align: left;\n",
       "    }\n",
       "\n",
       "    .dataframe tbody tr th {\n",
       "        vertical-align: top;\n",
       "    }\n",
       "</style>\n",
       "<table border=\"1\" class=\"dataframe\">\n",
       "  <thead>\n",
       "    <tr style=\"text-align: right;\">\n",
       "      <th></th>\n",
       "      <th>Date</th>\n",
       "      <th>Start (ET)</th>\n",
       "      <th>Visitor Team</th>\n",
       "      <th>VisitorPts</th>\n",
       "      <th>Home Team</th>\n",
       "      <th>HomePts</th>\n",
       "      <th>OT?</th>\n",
       "      <th>Score Type</th>\n",
       "      <th>Attendance</th>\n",
       "      <th>Notes</th>\n",
       "    </tr>\n",
       "  </thead>\n",
       "  <tbody>\n",
       "    <tr>\n",
       "      <th>0</th>\n",
       "      <td>2016-10-25</td>\n",
       "      <td>7:30 pm</td>\n",
       "      <td>New York Knicks</td>\n",
       "      <td>88</td>\n",
       "      <td>Cleveland Cavaliers</td>\n",
       "      <td>117</td>\n",
       "      <td>Box Score</td>\n",
       "      <td>NaN</td>\n",
       "      <td>20562</td>\n",
       "      <td>NaN</td>\n",
       "    </tr>\n",
       "    <tr>\n",
       "      <th>1</th>\n",
       "      <td>2016-10-25</td>\n",
       "      <td>10:30 pm</td>\n",
       "      <td>San Antonio Spurs</td>\n",
       "      <td>129</td>\n",
       "      <td>Golden State Warriors</td>\n",
       "      <td>100</td>\n",
       "      <td>Box Score</td>\n",
       "      <td>NaN</td>\n",
       "      <td>19596</td>\n",
       "      <td>NaN</td>\n",
       "    </tr>\n",
       "    <tr>\n",
       "      <th>2</th>\n",
       "      <td>2016-10-25</td>\n",
       "      <td>10:00 pm</td>\n",
       "      <td>Utah Jazz</td>\n",
       "      <td>104</td>\n",
       "      <td>Portland Trail Blazers</td>\n",
       "      <td>113</td>\n",
       "      <td>Box Score</td>\n",
       "      <td>NaN</td>\n",
       "      <td>19446</td>\n",
       "      <td>NaN</td>\n",
       "    </tr>\n",
       "    <tr>\n",
       "      <th>3</th>\n",
       "      <td>2016-10-26</td>\n",
       "      <td>7:30 pm</td>\n",
       "      <td>Brooklyn Nets</td>\n",
       "      <td>117</td>\n",
       "      <td>Boston Celtics</td>\n",
       "      <td>122</td>\n",
       "      <td>Box Score</td>\n",
       "      <td>NaN</td>\n",
       "      <td>18624</td>\n",
       "      <td>NaN</td>\n",
       "    </tr>\n",
       "    <tr>\n",
       "      <th>4</th>\n",
       "      <td>2016-10-26</td>\n",
       "      <td>7:00 pm</td>\n",
       "      <td>Dallas Mavericks</td>\n",
       "      <td>121</td>\n",
       "      <td>Indiana Pacers</td>\n",
       "      <td>130</td>\n",
       "      <td>Box Score</td>\n",
       "      <td>OT</td>\n",
       "      <td>17923</td>\n",
       "      <td>NaN</td>\n",
       "    </tr>\n",
       "  </tbody>\n",
       "</table>\n",
       "</div>"
      ],
      "text/plain": [
       "        Date Start (ET)       Visitor Team  VisitorPts  \\\n",
       "0 2016-10-25    7:30 pm    New York Knicks          88   \n",
       "1 2016-10-25   10:30 pm  San Antonio Spurs         129   \n",
       "2 2016-10-25   10:00 pm          Utah Jazz         104   \n",
       "3 2016-10-26    7:30 pm      Brooklyn Nets         117   \n",
       "4 2016-10-26    7:00 pm   Dallas Mavericks         121   \n",
       "\n",
       "                Home Team  HomePts        OT? Score Type  Attendance Notes  \n",
       "0     Cleveland Cavaliers      117  Box Score        NaN       20562   NaN  \n",
       "1   Golden State Warriors      100  Box Score        NaN       19596   NaN  \n",
       "2  Portland Trail Blazers      113  Box Score        NaN       19446   NaN  \n",
       "3          Boston Celtics      122  Box Score        NaN       18624   NaN  \n",
       "4          Indiana Pacers      130  Box Score         OT       17923   NaN  "
      ]
     },
     "execution_count": 279,
     "metadata": {},
     "output_type": "execute_result"
    }
   ],
   "source": [
    "df.head()"
   ]
  },
  {
   "cell_type": "markdown",
   "metadata": {
    "collapsed": true
   },
   "source": [
    "## Extracting new features"
   ]
  },
  {
   "cell_type": "code",
   "execution_count": 280,
   "metadata": {
    "collapsed": true
   },
   "outputs": [],
   "source": [
    "#investigate home win stats\n",
    "df['HomeWin'] = df['VisitorPts'] < df['HomePts']\n",
    "y_true = df['HomeWin'].values"
   ]
  },
  {
   "cell_type": "code",
   "execution_count": 281,
   "metadata": {},
   "outputs": [
    {
     "name": "stdout",
     "output_type": "stream",
     "text": [
      "The percentage of home wins is 58.29\n"
     ]
    }
   ],
   "source": [
    "hw_percent = df['HomeWin'].mean()\n",
    "print('The percentage of home wins is {0:.2f}'.format(hw_percent*100))"
   ]
  },
  {
   "cell_type": "code",
   "execution_count": 282,
   "metadata": {
    "collapsed": true
   },
   "outputs": [],
   "source": [
    "#predict which team is doing well, by looking at win of previous game\n",
    "from collections import defaultdict\n",
    "won_last = defaultdict(int)"
   ]
  },
  {
   "cell_type": "code",
   "execution_count": 283,
   "metadata": {
    "collapsed": true
   },
   "outputs": [],
   "source": [
    "#create new feature to store results of new features\n",
    "df['HomeLastWin'] = 0\n",
    "df['VisitorLastWin'] = 0"
   ]
  },
  {
   "cell_type": "code",
   "execution_count": 284,
   "metadata": {
    "collapsed": true
   },
   "outputs": [],
   "source": [
    "#update over rows and update current row with teams last results\n",
    "for index, row in df.iterrows():\n",
    "    home_team = row[\"Home Team\"]\n",
    "    visitor_team = row[\"Visitor Team\"]\n",
    "    row[\"HomeLastWin\"] = won_last[home_team]\n",
    "    df.set_value(index,\"HomeLastWin\",won_last[home_team])\n",
    "    df.set_value(index,\"VisitorLastWin\",won_last[visitor_team])\n",
    "    #update dict with either 1 or 0 depending on which team won current game\n",
    "    won_last[home_team] = int(row[\"HomeWin\"])\n",
    "    won_last[visitor_team] = 1 - int(row[\"HomeWin\"])  "
   ]
  },
  {
   "cell_type": "code",
   "execution_count": 285,
   "metadata": {},
   "outputs": [
    {
     "data": {
      "text/html": [
       "<div>\n",
       "<style>\n",
       "    .dataframe thead tr:only-child th {\n",
       "        text-align: right;\n",
       "    }\n",
       "\n",
       "    .dataframe thead th {\n",
       "        text-align: left;\n",
       "    }\n",
       "\n",
       "    .dataframe tbody tr th {\n",
       "        vertical-align: top;\n",
       "    }\n",
       "</style>\n",
       "<table border=\"1\" class=\"dataframe\">\n",
       "  <thead>\n",
       "    <tr style=\"text-align: right;\">\n",
       "      <th></th>\n",
       "      <th>Date</th>\n",
       "      <th>Start (ET)</th>\n",
       "      <th>Visitor Team</th>\n",
       "      <th>VisitorPts</th>\n",
       "      <th>Home Team</th>\n",
       "      <th>HomePts</th>\n",
       "      <th>OT?</th>\n",
       "      <th>Score Type</th>\n",
       "      <th>Attendance</th>\n",
       "      <th>Notes</th>\n",
       "      <th>HomeWin</th>\n",
       "      <th>HomeLastWin</th>\n",
       "      <th>VisitorLastWin</th>\n",
       "    </tr>\n",
       "  </thead>\n",
       "  <tbody>\n",
       "    <tr>\n",
       "      <th>0</th>\n",
       "      <td>2016-10-25</td>\n",
       "      <td>7:30 pm</td>\n",
       "      <td>New York Knicks</td>\n",
       "      <td>88</td>\n",
       "      <td>Cleveland Cavaliers</td>\n",
       "      <td>117</td>\n",
       "      <td>Box Score</td>\n",
       "      <td>NaN</td>\n",
       "      <td>20562</td>\n",
       "      <td>NaN</td>\n",
       "      <td>True</td>\n",
       "      <td>0</td>\n",
       "      <td>0</td>\n",
       "    </tr>\n",
       "    <tr>\n",
       "      <th>1</th>\n",
       "      <td>2016-10-25</td>\n",
       "      <td>10:30 pm</td>\n",
       "      <td>San Antonio Spurs</td>\n",
       "      <td>129</td>\n",
       "      <td>Golden State Warriors</td>\n",
       "      <td>100</td>\n",
       "      <td>Box Score</td>\n",
       "      <td>NaN</td>\n",
       "      <td>19596</td>\n",
       "      <td>NaN</td>\n",
       "      <td>False</td>\n",
       "      <td>0</td>\n",
       "      <td>0</td>\n",
       "    </tr>\n",
       "    <tr>\n",
       "      <th>2</th>\n",
       "      <td>2016-10-25</td>\n",
       "      <td>10:00 pm</td>\n",
       "      <td>Utah Jazz</td>\n",
       "      <td>104</td>\n",
       "      <td>Portland Trail Blazers</td>\n",
       "      <td>113</td>\n",
       "      <td>Box Score</td>\n",
       "      <td>NaN</td>\n",
       "      <td>19446</td>\n",
       "      <td>NaN</td>\n",
       "      <td>True</td>\n",
       "      <td>0</td>\n",
       "      <td>0</td>\n",
       "    </tr>\n",
       "    <tr>\n",
       "      <th>3</th>\n",
       "      <td>2016-10-26</td>\n",
       "      <td>7:30 pm</td>\n",
       "      <td>Brooklyn Nets</td>\n",
       "      <td>117</td>\n",
       "      <td>Boston Celtics</td>\n",
       "      <td>122</td>\n",
       "      <td>Box Score</td>\n",
       "      <td>NaN</td>\n",
       "      <td>18624</td>\n",
       "      <td>NaN</td>\n",
       "      <td>True</td>\n",
       "      <td>0</td>\n",
       "      <td>0</td>\n",
       "    </tr>\n",
       "    <tr>\n",
       "      <th>4</th>\n",
       "      <td>2016-10-26</td>\n",
       "      <td>7:00 pm</td>\n",
       "      <td>Dallas Mavericks</td>\n",
       "      <td>121</td>\n",
       "      <td>Indiana Pacers</td>\n",
       "      <td>130</td>\n",
       "      <td>Box Score</td>\n",
       "      <td>OT</td>\n",
       "      <td>17923</td>\n",
       "      <td>NaN</td>\n",
       "      <td>True</td>\n",
       "      <td>0</td>\n",
       "      <td>0</td>\n",
       "    </tr>\n",
       "  </tbody>\n",
       "</table>\n",
       "</div>"
      ],
      "text/plain": [
       "        Date Start (ET)       Visitor Team  VisitorPts  \\\n",
       "0 2016-10-25    7:30 pm    New York Knicks          88   \n",
       "1 2016-10-25   10:30 pm  San Antonio Spurs         129   \n",
       "2 2016-10-25   10:00 pm          Utah Jazz         104   \n",
       "3 2016-10-26    7:30 pm      Brooklyn Nets         117   \n",
       "4 2016-10-26    7:00 pm   Dallas Mavericks         121   \n",
       "\n",
       "                Home Team  HomePts        OT? Score Type  Attendance Notes  \\\n",
       "0     Cleveland Cavaliers      117  Box Score        NaN       20562   NaN   \n",
       "1   Golden State Warriors      100  Box Score        NaN       19596   NaN   \n",
       "2  Portland Trail Blazers      113  Box Score        NaN       19446   NaN   \n",
       "3          Boston Celtics      122  Box Score        NaN       18624   NaN   \n",
       "4          Indiana Pacers      130  Box Score         OT       17923   NaN   \n",
       "\n",
       "   HomeWin  HomeLastWin  VisitorLastWin  \n",
       "0     True            0               0  \n",
       "1    False            0               0  \n",
       "2     True            0               0  \n",
       "3     True            0               0  \n",
       "4     True            0               0  "
      ]
     },
     "execution_count": 285,
     "metadata": {},
     "output_type": "execute_result"
    }
   ],
   "source": [
    "df.head()"
   ]
  },
  {
   "cell_type": "code",
   "execution_count": 286,
   "metadata": {},
   "outputs": [
    {
     "data": {
      "text/html": [
       "<div>\n",
       "<style>\n",
       "    .dataframe thead tr:only-child th {\n",
       "        text-align: right;\n",
       "    }\n",
       "\n",
       "    .dataframe thead th {\n",
       "        text-align: left;\n",
       "    }\n",
       "\n",
       "    .dataframe tbody tr th {\n",
       "        vertical-align: top;\n",
       "    }\n",
       "</style>\n",
       "<table border=\"1\" class=\"dataframe\">\n",
       "  <thead>\n",
       "    <tr style=\"text-align: right;\">\n",
       "      <th></th>\n",
       "      <th>Date</th>\n",
       "      <th>Start (ET)</th>\n",
       "      <th>Visitor Team</th>\n",
       "      <th>VisitorPts</th>\n",
       "      <th>Home Team</th>\n",
       "      <th>HomePts</th>\n",
       "      <th>OT?</th>\n",
       "      <th>Score Type</th>\n",
       "      <th>Attendance</th>\n",
       "      <th>Notes</th>\n",
       "      <th>HomeWin</th>\n",
       "      <th>HomeLastWin</th>\n",
       "      <th>VisitorLastWin</th>\n",
       "    </tr>\n",
       "  </thead>\n",
       "  <tbody>\n",
       "    <tr>\n",
       "      <th>1000</th>\n",
       "      <td>2017-03-14</td>\n",
       "      <td>8:00 pm</td>\n",
       "      <td>Portland Trail Blazers</td>\n",
       "      <td>77</td>\n",
       "      <td>New Orleans Pelicans</td>\n",
       "      <td>100</td>\n",
       "      <td>Box Score</td>\n",
       "      <td>NaN</td>\n",
       "      <td>15530</td>\n",
       "      <td>NaN</td>\n",
       "      <td>True</td>\n",
       "      <td>1</td>\n",
       "      <td>1</td>\n",
       "    </tr>\n",
       "    <tr>\n",
       "      <th>1001</th>\n",
       "      <td>2017-03-14</td>\n",
       "      <td>7:30 pm</td>\n",
       "      <td>Indiana Pacers</td>\n",
       "      <td>81</td>\n",
       "      <td>New York Knicks</td>\n",
       "      <td>87</td>\n",
       "      <td>Box Score</td>\n",
       "      <td>NaN</td>\n",
       "      <td>18261</td>\n",
       "      <td>NaN</td>\n",
       "      <td>True</td>\n",
       "      <td>0</td>\n",
       "      <td>1</td>\n",
       "    </tr>\n",
       "    <tr>\n",
       "      <th>1002</th>\n",
       "      <td>2017-03-15</td>\n",
       "      <td>7:30 pm</td>\n",
       "      <td>Minnesota Timberwolves</td>\n",
       "      <td>104</td>\n",
       "      <td>Boston Celtics</td>\n",
       "      <td>117</td>\n",
       "      <td>Box Score</td>\n",
       "      <td>NaN</td>\n",
       "      <td>18624</td>\n",
       "      <td>NaN</td>\n",
       "      <td>True</td>\n",
       "      <td>1</td>\n",
       "      <td>1</td>\n",
       "    </tr>\n",
       "    <tr>\n",
       "      <th>1003</th>\n",
       "      <td>2017-03-15</td>\n",
       "      <td>8:00 pm</td>\n",
       "      <td>Memphis Grizzlies</td>\n",
       "      <td>98</td>\n",
       "      <td>Chicago Bulls</td>\n",
       "      <td>91</td>\n",
       "      <td>Box Score</td>\n",
       "      <td>NaN</td>\n",
       "      <td>21583</td>\n",
       "      <td>NaN</td>\n",
       "      <td>False</td>\n",
       "      <td>1</td>\n",
       "      <td>1</td>\n",
       "    </tr>\n",
       "    <tr>\n",
       "      <th>1004</th>\n",
       "      <td>2017-03-15</td>\n",
       "      <td>7:30 pm</td>\n",
       "      <td>Utah Jazz</td>\n",
       "      <td>97</td>\n",
       "      <td>Detroit Pistons</td>\n",
       "      <td>83</td>\n",
       "      <td>Box Score</td>\n",
       "      <td>NaN</td>\n",
       "      <td>14033</td>\n",
       "      <td>NaN</td>\n",
       "      <td>False</td>\n",
       "      <td>0</td>\n",
       "      <td>1</td>\n",
       "    </tr>\n",
       "  </tbody>\n",
       "</table>\n",
       "</div>"
      ],
      "text/plain": [
       "           Date Start (ET)            Visitor Team  VisitorPts  \\\n",
       "1000 2017-03-14    8:00 pm  Portland Trail Blazers          77   \n",
       "1001 2017-03-14    7:30 pm          Indiana Pacers          81   \n",
       "1002 2017-03-15    7:30 pm  Minnesota Timberwolves         104   \n",
       "1003 2017-03-15    8:00 pm       Memphis Grizzlies          98   \n",
       "1004 2017-03-15    7:30 pm               Utah Jazz          97   \n",
       "\n",
       "                 Home Team  HomePts        OT? Score Type  Attendance Notes  \\\n",
       "1000  New Orleans Pelicans      100  Box Score        NaN       15530   NaN   \n",
       "1001       New York Knicks       87  Box Score        NaN       18261   NaN   \n",
       "1002        Boston Celtics      117  Box Score        NaN       18624   NaN   \n",
       "1003         Chicago Bulls       91  Box Score        NaN       21583   NaN   \n",
       "1004       Detroit Pistons       83  Box Score        NaN       14033   NaN   \n",
       "\n",
       "      HomeWin  HomeLastWin  VisitorLastWin  \n",
       "1000     True            1               1  \n",
       "1001     True            0               1  \n",
       "1002     True            1               1  \n",
       "1003    False            1               1  \n",
       "1004    False            0               1  "
      ]
     },
     "execution_count": 286,
     "metadata": {},
     "output_type": "execute_result"
    }
   ],
   "source": [
    "df.iloc[1000:1005]"
   ]
  },
  {
   "cell_type": "code",
   "execution_count": 287,
   "metadata": {
    "collapsed": true
   },
   "outputs": [],
   "source": [
    "#use new feature alone for prediction\n",
    "seed=7\n",
    "kfold = 5\n",
    "clf = DecisionTreeClassifier(random_state = seed)\n",
    "X_previous_wins = df[[\"HomeLastWin\", \"VisitorLastWin\"]].values"
   ]
  },
  {
   "cell_type": "code",
   "execution_count": 288,
   "metadata": {},
   "outputs": [
    {
     "name": "stdout",
     "output_type": "stream",
     "text": [
      "Accuracy: 58.3\n"
     ]
    }
   ],
   "source": [
    "scores = cross_val_score(clf,X_previous_wins,y_true,scoring='accuracy',cv=kfold)\n",
    "print(\"Accuracy: {0:.1f}\".format(np.mean(scores)*100))"
   ]
  },
  {
   "cell_type": "markdown",
   "metadata": {},
   "source": [
    "Using only this new feature, gives a result (only slightly better) than random value above "
   ]
  },
  {
   "cell_type": "markdown",
   "metadata": {},
   "source": [
    "### Try different features:\n",
    " - which team generally considered better\n",
    " - which team won last encounter\n",
    " Use information about standings:\n",
    "  - https://www.basketball-reference.com/leagues/NBA_2016_standings.html#all_expanded_standings\n",
    " "
   ]
  },
  {
   "cell_type": "code",
   "execution_count": 289,
   "metadata": {
    "collapsed": true
   },
   "outputs": [],
   "source": [
    "#make new dataframe from standings data and use this information in first dataframe\n",
    "standings_filename = os.path.join(data_folder,'standings.csv')\n",
    "standings = pd.read_csv(standings_filename,skiprows=1)"
   ]
  },
  {
   "cell_type": "code",
   "execution_count": 290,
   "metadata": {},
   "outputs": [
    {
     "data": {
      "text/html": [
       "<div>\n",
       "<style>\n",
       "    .dataframe thead tr:only-child th {\n",
       "        text-align: right;\n",
       "    }\n",
       "\n",
       "    .dataframe thead th {\n",
       "        text-align: left;\n",
       "    }\n",
       "\n",
       "    .dataframe tbody tr th {\n",
       "        vertical-align: top;\n",
       "    }\n",
       "</style>\n",
       "<table border=\"1\" class=\"dataframe\">\n",
       "  <thead>\n",
       "    <tr style=\"text-align: right;\">\n",
       "      <th></th>\n",
       "      <th>Rk</th>\n",
       "      <th>Team</th>\n",
       "      <th>Overall</th>\n",
       "      <th>Home</th>\n",
       "      <th>Road</th>\n",
       "      <th>E</th>\n",
       "      <th>W</th>\n",
       "      <th>A</th>\n",
       "      <th>C</th>\n",
       "      <th>SE</th>\n",
       "      <th>...</th>\n",
       "      <th>Post</th>\n",
       "      <th>≤3</th>\n",
       "      <th>≥10</th>\n",
       "      <th>Oct</th>\n",
       "      <th>Nov</th>\n",
       "      <th>Dec</th>\n",
       "      <th>Jan</th>\n",
       "      <th>Feb</th>\n",
       "      <th>Mar</th>\n",
       "      <th>Apr</th>\n",
       "    </tr>\n",
       "  </thead>\n",
       "  <tbody>\n",
       "    <tr>\n",
       "      <th>0</th>\n",
       "      <td>1</td>\n",
       "      <td>Golden State Warriors</td>\n",
       "      <td>73-9</td>\n",
       "      <td>39-2</td>\n",
       "      <td>34-7</td>\n",
       "      <td>27-3</td>\n",
       "      <td>46-6</td>\n",
       "      <td>9-1</td>\n",
       "      <td>8-2</td>\n",
       "      <td>10-0</td>\n",
       "      <td>...</td>\n",
       "      <td>25-5</td>\n",
       "      <td>7-2</td>\n",
       "      <td>44-5</td>\n",
       "      <td>3-0</td>\n",
       "      <td>16-0</td>\n",
       "      <td>11-2</td>\n",
       "      <td>14-2</td>\n",
       "      <td>9-1</td>\n",
       "      <td>15-2</td>\n",
       "      <td>5-2</td>\n",
       "    </tr>\n",
       "    <tr>\n",
       "      <th>1</th>\n",
       "      <td>2</td>\n",
       "      <td>San Antonio Spurs</td>\n",
       "      <td>67-15</td>\n",
       "      <td>40-1</td>\n",
       "      <td>27-14</td>\n",
       "      <td>24-6</td>\n",
       "      <td>43-9</td>\n",
       "      <td>9-1</td>\n",
       "      <td>7-3</td>\n",
       "      <td>8-2</td>\n",
       "      <td>...</td>\n",
       "      <td>22-7</td>\n",
       "      <td>4-4</td>\n",
       "      <td>44-6</td>\n",
       "      <td>1-1</td>\n",
       "      <td>13-3</td>\n",
       "      <td>14-2</td>\n",
       "      <td>11-2</td>\n",
       "      <td>11-1</td>\n",
       "      <td>13-3</td>\n",
       "      <td>4-3</td>\n",
       "    </tr>\n",
       "    <tr>\n",
       "      <th>2</th>\n",
       "      <td>3</td>\n",
       "      <td>Cleveland Cavaliers</td>\n",
       "      <td>57-25</td>\n",
       "      <td>33-8</td>\n",
       "      <td>24-17</td>\n",
       "      <td>35-17</td>\n",
       "      <td>22-8</td>\n",
       "      <td>14-4</td>\n",
       "      <td>8-8</td>\n",
       "      <td>13-5</td>\n",
       "      <td>...</td>\n",
       "      <td>19-11</td>\n",
       "      <td>4-7</td>\n",
       "      <td>32-8</td>\n",
       "      <td>2-1</td>\n",
       "      <td>11-3</td>\n",
       "      <td>8-5</td>\n",
       "      <td>13-3</td>\n",
       "      <td>8-5</td>\n",
       "      <td>11-5</td>\n",
       "      <td>4-3</td>\n",
       "    </tr>\n",
       "    <tr>\n",
       "      <th>3</th>\n",
       "      <td>4</td>\n",
       "      <td>Toronto Raptors</td>\n",
       "      <td>56-26</td>\n",
       "      <td>32-9</td>\n",
       "      <td>24-17</td>\n",
       "      <td>39-13</td>\n",
       "      <td>17-13</td>\n",
       "      <td>14-2</td>\n",
       "      <td>11-7</td>\n",
       "      <td>14-4</td>\n",
       "      <td>...</td>\n",
       "      <td>21-9</td>\n",
       "      <td>6-6</td>\n",
       "      <td>28-10</td>\n",
       "      <td>2-0</td>\n",
       "      <td>9-7</td>\n",
       "      <td>9-6</td>\n",
       "      <td>12-2</td>\n",
       "      <td>7-4</td>\n",
       "      <td>11-5</td>\n",
       "      <td>6-2</td>\n",
       "    </tr>\n",
       "    <tr>\n",
       "      <th>4</th>\n",
       "      <td>5</td>\n",
       "      <td>Oklahoma City Thunder</td>\n",
       "      <td>55-27</td>\n",
       "      <td>32-9</td>\n",
       "      <td>23-18</td>\n",
       "      <td>18-12</td>\n",
       "      <td>37-15</td>\n",
       "      <td>6-4</td>\n",
       "      <td>4-6</td>\n",
       "      <td>8-2</td>\n",
       "      <td>...</td>\n",
       "      <td>15-13</td>\n",
       "      <td>8-6</td>\n",
       "      <td>33-5</td>\n",
       "      <td>2-0</td>\n",
       "      <td>9-7</td>\n",
       "      <td>12-3</td>\n",
       "      <td>13-3</td>\n",
       "      <td>6-5</td>\n",
       "      <td>11-5</td>\n",
       "      <td>2-4</td>\n",
       "    </tr>\n",
       "  </tbody>\n",
       "</table>\n",
       "<p>5 rows × 24 columns</p>\n",
       "</div>"
      ],
      "text/plain": [
       "   Rk                   Team Overall  Home   Road      E      W     A     C  \\\n",
       "0   1  Golden State Warriors    73-9  39-2   34-7   27-3   46-6   9-1   8-2   \n",
       "1   2      San Antonio Spurs   67-15  40-1  27-14   24-6   43-9   9-1   7-3   \n",
       "2   3    Cleveland Cavaliers   57-25  33-8  24-17  35-17   22-8  14-4   8-8   \n",
       "3   4        Toronto Raptors   56-26  32-9  24-17  39-13  17-13  14-2  11-7   \n",
       "4   5  Oklahoma City Thunder   55-27  32-9  23-18  18-12  37-15   6-4   4-6   \n",
       "\n",
       "     SE ...    Post   ≤3    ≥10  Oct   Nov   Dec   Jan   Feb   Mar  Apr  \n",
       "0  10-0 ...    25-5  7-2   44-5  3-0  16-0  11-2  14-2   9-1  15-2  5-2  \n",
       "1   8-2 ...    22-7  4-4   44-6  1-1  13-3  14-2  11-2  11-1  13-3  4-3  \n",
       "2  13-5 ...   19-11  4-7   32-8  2-1  11-3   8-5  13-3   8-5  11-5  4-3  \n",
       "3  14-4 ...    21-9  6-6  28-10  2-0   9-7   9-6  12-2   7-4  11-5  6-2  \n",
       "4   8-2 ...   15-13  8-6   33-5  2-0   9-7  12-3  13-3   6-5  11-5  2-4  \n",
       "\n",
       "[5 rows x 24 columns]"
      ]
     },
     "execution_count": 290,
     "metadata": {},
     "output_type": "execute_result"
    }
   ],
   "source": [
    "standings.head()"
   ]
  },
  {
   "cell_type": "code",
   "execution_count": 291,
   "metadata": {},
   "outputs": [
    {
     "data": {
      "text/plain": [
       "'Golden State Warriors'"
      ]
     },
     "execution_count": 291,
     "metadata": {},
     "output_type": "execute_result"
    }
   ],
   "source": [
    "standings[\"Team\"].values[0]"
   ]
  },
  {
   "cell_type": "code",
   "execution_count": 292,
   "metadata": {
    "collapsed": true
   },
   "outputs": [],
   "source": [
    "#make new column in original dataset\n",
    "df[\"HomeTeamRanksHigher\"] = 0\n",
    "\n",
    "for index, row in df.iterrows():\n",
    "    home_team = row[\"Home Team\"]\n",
    "    visitor_team = row[\"Visitor Team\"]\n",
    "    #get standings rank from standings dataset for the home and visitor team\n",
    "    home_rank = standings[standings[\"Team\"] == home_team][\"Rk\"].values[0]\n",
    "    visitor_rank = standings[standings[\"Team\"] == visitor_team][\"Rk\"].values[0]\n",
    "    row[\"HomeTeamRanksHigher\"] = int(home_rank > visitor_rank)\n",
    "    df.set_value(index,\"HomeTeamRanksHigher\",int(home_rank < visitor_rank))\n",
    "     "
   ]
  },
  {
   "cell_type": "code",
   "execution_count": 293,
   "metadata": {},
   "outputs": [
    {
     "name": "stdout",
     "output_type": "stream",
     "text": [
      "Accuracy: 62.9\n"
     ]
    }
   ],
   "source": [
    "X_home_higher = df[[\"HomeLastWin\", \"VisitorLastWin\",\"HomeTeamRanksHigher\"]].values\n",
    "clf = DecisionTreeClassifier(random_state = seed)\n",
    "scores = cross_val_score(clf,X_home_higher,y_true,scoring='accuracy',cv=kfold)\n",
    "print(\"Accuracy: {0:.1f}\".format(np.mean(scores)*100))"
   ]
  },
  {
   "cell_type": "markdown",
   "metadata": {},
   "source": [
    "Improvement over previous result"
   ]
  },
  {
   "cell_type": "code",
   "execution_count": 294,
   "metadata": {},
   "outputs": [],
   "source": [
    "#Add info about how the teams perform against each other\n",
    "last_match_winner = defaultdict(int)\n",
    "df[\"HomeTeamWonLast\"] = 0\n",
    "\n",
    "for index,row in df.iterrows():\n",
    "    home_team = row[\"Home Team\"]\n",
    "    visitor_team = row[\"Visitor Team\"]\n",
    "    teams = tuple(sorted([home_team,visitor_team]))\n",
    "    #who won last encounter\n",
    "    home_team_won_last = 1 if last_match_winner[teams] == row[\"Home Team\"] else 0\n",
    "    df.set_value(index,\"HomeTeamWonLast\",home_team_won_last)\n",
    "    #who won this one?\n",
    "    winner = row[\"Home Team\"] if row[\"HomeWin\"] else row[\"Visitor Team\"]\n",
    "    last_match_winner[teams] = winner"
   ]
  },
  {
   "cell_type": "code",
   "execution_count": 295,
   "metadata": {
    "collapsed": true
   },
   "outputs": [],
   "source": [
    "#Creates a tuple called teams, store the previous result in a \n",
    "#dictionary. When those two teams play each other next, recreate the tuple, and look up the previous result. "
   ]
  },
  {
   "cell_type": "code",
   "execution_count": 296,
   "metadata": {},
   "outputs": [
    {
     "name": "stdout",
     "output_type": "stream",
     "text": [
      "Accuracy: 64.8\n"
     ]
    }
   ],
   "source": [
    "X_lastwinner = df[[ \"HomeTeamWonLast\", \"HomeTeamRanksHigher\",\"HomeLastWin\", \"VisitorLastWin\",]].values\n",
    "clf = DecisionTreeClassifier(random_state=seed, criterion=\"entropy\")\n",
    "scores = cross_val_score(clf, X_lastwinner, y_true, scoring='accuracy',cv=kfold)\n",
    "print(\"Accuracy: {0:.1f}\".format(np.mean(scores)*100))"
   ]
  },
  {
   "cell_type": "markdown",
   "metadata": {},
   "source": [
    "Accuracy has improved with this new feature"
   ]
  },
  {
   "cell_type": "code",
   "execution_count": 297,
   "metadata": {},
   "outputs": [],
   "source": [
    "#try encoding categorical data as integers\n",
    "encoding = LabelEncoder()\n",
    "encoding.fit(df[\"Home Team\"].values)\n",
    "#use same transformer for homw and away, so same team gets same integer value as both home/away\n",
    "home_teams = encoding.transform(df[\"Home Team\"].values)\n",
    "visitor_teams = encoding.transform(df[\"Visitor Team\"].values)\n",
    "#result is [home[0] vis[0]] , [home[1], vis[1]]..... \n",
    "X_teams = np.vstack([home_teams, visitor_teams]).T"
   ]
  },
  {
   "cell_type": "code",
   "execution_count": 298,
   "metadata": {},
   "outputs": [
    {
     "name": "stdout",
     "output_type": "stream",
     "text": [
      "[[ 5 19]\n",
      " [ 9 26]]\n",
      "[5 9]\n",
      "[19 26]\n"
     ]
    }
   ],
   "source": [
    "print(X_teams[:2]);print(home_teams[:2]);print(visitor_teams[:2]);"
   ]
  },
  {
   "cell_type": "code",
   "execution_count": 299,
   "metadata": {
    "scrolled": true
   },
   "outputs": [],
   "source": [
    "#should have one hot encoded; teams an integer in range, algo. may place importance \n",
    "#on the int val eg 1 and 2 similar but 4 and 10 not"
   ]
  },
  {
   "cell_type": "code",
   "execution_count": 300,
   "metadata": {},
   "outputs": [
    {
     "data": {
      "text/plain": [
       "<1309x60 sparse matrix of type '<class 'numpy.float64'>'\n",
       "\twith 2618 stored elements in Compressed Sparse Row format>"
      ]
     },
     "execution_count": 300,
     "metadata": {},
     "output_type": "execute_result"
    }
   ],
   "source": [
    "onehot = OneHotEncoder()\n",
    "X_teams = onehot.fit_transform(X_teams)\n",
    "X_teams"
   ]
  },
  {
   "cell_type": "code",
   "execution_count": 301,
   "metadata": {},
   "outputs": [],
   "source": [
    "#have to convert to dense matrix for later processing using hp stack\n",
    "X_teams = X_teams.todense()\n",
    "#X_teams"
   ]
  },
  {
   "cell_type": "code",
   "execution_count": 302,
   "metadata": {},
   "outputs": [
    {
     "name": "stdout",
     "output_type": "stream",
     "text": [
      "Accuracy: 59.1%\n"
     ]
    }
   ],
   "source": [
    "clf = DecisionTreeClassifier(random_state=seed)\n",
    "scores = cross_val_score(clf, X_teams, y_true, scoring='accuracy',cv=kfold)\n",
    "print(\"Accuracy: {0:.1f}%\".format(np.mean(scores) * 100))"
   ]
  },
  {
   "cell_type": "code",
   "execution_count": 303,
   "metadata": {
    "collapsed": true
   },
   "outputs": [],
   "source": [
    "#Using just the teams playing does not give better results"
   ]
  },
  {
   "cell_type": "code",
   "execution_count": 304,
   "metadata": {},
   "outputs": [
    {
     "data": {
      "text/plain": [
       "matrix([[ 0.,  0.,  0., ...,  0.,  0.,  0.],\n",
       "        [ 0.,  0.,  0., ...,  0.,  0.,  0.],\n",
       "        [ 0.,  0.,  0., ...,  0.,  1.,  0.],\n",
       "        ..., \n",
       "        [ 0.,  0.,  0., ...,  0.,  0.,  0.],\n",
       "        [ 0.,  0.,  0., ...,  0.,  0.,  0.],\n",
       "        [ 0.,  0.,  0., ...,  0.,  0.,  0.]])"
      ]
     },
     "execution_count": 304,
     "metadata": {},
     "output_type": "execute_result"
    }
   ],
   "source": [
    "X_teams"
   ]
  },
  {
   "cell_type": "markdown",
   "metadata": {},
   "source": [
    "## Try random forest?\n",
    " - 1) Bagging - randomly sample our datset - effectively creating new sets\n",
    " - 2) Random subset of features"
   ]
  },
  {
   "cell_type": "code",
   "execution_count": 305,
   "metadata": {},
   "outputs": [
    {
     "name": "stdout",
     "output_type": "stream",
     "text": [
      "Accuracy: 59.9%\n"
     ]
    }
   ],
   "source": [
    "clf = RandomForestClassifier(random_state=seed)\n",
    "scores = cross_val_score(clf, X_teams, y_true, scoring='accuracy',cv=kfold)\n",
    "print(\"Accuracy: {0:.1f}%\".format(np.mean(scores) * 100))"
   ]
  },
  {
   "cell_type": "markdown",
   "metadata": {},
   "source": [
    "Using just the teams and random forest see small improvement.  Try throwing more features at it:"
   ]
  },
  {
   "cell_type": "code",
   "execution_count": 307,
   "metadata": {},
   "outputs": [
    {
     "name": "stdout",
     "output_type": "stream",
     "text": [
      "Accuracy: 60.3%\n"
     ]
    }
   ],
   "source": [
    "X_all = np.column_stack([X_lastwinner, X_teams])\n",
    "clf = RandomForestClassifier(random_state=14)\n",
    "scores = cross_val_score(clf, X_all, y_true, scoring='accuracy',cv=kfold)\n",
    "print(\"Accuracy: {0:.1f}%\".format(np.mean(scores) * 100))"
   ]
  },
  {
   "cell_type": "markdown",
   "metadata": {},
   "source": [
    "Better accuracy, lets try various parameters using grid search"
   ]
  },
  {
   "cell_type": "code",
   "execution_count": 311,
   "metadata": {},
   "outputs": [
    {
     "name": "stdout",
     "output_type": "stream",
     "text": [
      "Accuracy: 63.8%\n"
     ]
    }
   ],
   "source": [
    "params = {\n",
    "    \"max_features\": [2, 10, 'auto'],\n",
    "    \"n_estimators\": [100, 200],\n",
    "    \"criterion\": [\"gini\", \"entropy\"],\n",
    "    \"min_samples_leaf\": [2, 4, 6],\n",
    "}\n",
    "clf = RandomForestClassifier(random_state=seed)\n",
    "grid = GridSearchCV(clf, parameter_space,cv=kfold)\n",
    "grid.fit(X_all, y_true)\n",
    "print(\"Accuracy: {0:.1f}%\".format(grid.best_score_ * 100))"
   ]
  },
  {
   "cell_type": "code",
   "execution_count": 312,
   "metadata": {},
   "outputs": [
    {
     "name": "stdout",
     "output_type": "stream",
     "text": [
      "RandomForestClassifier(bootstrap=True, class_weight=None, criterion='entropy',\n",
      "            max_depth=None, max_features='auto', max_leaf_nodes=None,\n",
      "            min_impurity_decrease=0.0, min_impurity_split=None,\n",
      "            min_samples_leaf=6, min_samples_split=2,\n",
      "            min_weight_fraction_leaf=0.0, n_estimators=100, n_jobs=1,\n",
      "            oob_score=False, random_state=7, verbose=0, warm_start=False)\n"
     ]
    }
   ],
   "source": [
    "print(grid.best_estimator_)"
   ]
  },
  {
   "cell_type": "markdown",
   "metadata": {},
   "source": [
    "Overall better accuracy using more engineered features and random forest"
   ]
  },
  {
   "cell_type": "code",
   "execution_count": null,
   "metadata": {
    "collapsed": true
   },
   "outputs": [],
   "source": []
  }
 ],
 "metadata": {
  "kernelspec": {
   "display_name": "Python 3",
   "language": "python",
   "name": "python3"
  },
  "language_info": {
   "codemirror_mode": {
    "name": "ipython",
    "version": 3
   },
   "file_extension": ".py",
   "mimetype": "text/x-python",
   "name": "python",
   "nbconvert_exporter": "python",
   "pygments_lexer": "ipython3",
   "version": "3.6.1"
  }
 },
 "nbformat": 4,
 "nbformat_minor": 2
}
